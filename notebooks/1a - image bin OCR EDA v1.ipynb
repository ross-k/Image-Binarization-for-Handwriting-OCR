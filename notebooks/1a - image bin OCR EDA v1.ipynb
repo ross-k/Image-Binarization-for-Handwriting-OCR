{
 "cells": [
  {
   "cell_type": "markdown",
   "id": "aacf84a8",
   "metadata": {},
   "source": [
    "## IMAGE BINARIZATION FOR HANDWRITING OCR\n",
    "\n",
    "v1 - EDA - Ross Kimberlin - 5/24/2022"
   ]
  },
  {
   "cell_type": "markdown",
   "id": "d2a4709d",
   "metadata": {},
   "source": [
    "### PSEUDOCODE OUTLINE / CONCEPTUAL STEPS"
   ]
  },
  {
   "cell_type": "markdown",
   "id": "70bed6d5",
   "metadata": {},
   "source": [
    "### 1) READ ARTICLES\n",
    "\n",
    "Calvo-Zaragoza & Gallego - \"A selectional auto-encoder approach for document image binarization\" - DONE\n",
    "\n",
    "Kleber, Diem, & Fiel - \"READ D5.10 ScriptNet Large Scale Dataset P3\" - DONE\n",
    "\n",
    "Pratikakis, et al. - \"ICFHR 2016 Handwritten Document Image Binarization Contest (H-DIBCO 2016)\" - DONE\n",
    "\n",
    "Reddy - \"What is an OCR\" (Medium) - DONE\n",
    "\n",
    "Sekhon - \"Image filters in PYthon\" (Medium) - DONE"
   ]
  },
  {
   "cell_type": "markdown",
   "id": "0ffcab25",
   "metadata": {},
   "source": [
    "### 2) DOWNLOAD ALL DATA SETS -\n",
    "\n",
    "Bentham (TO DO - HAVE GROUND TRUTH - DOWNLOAD OTHER PIECE)\n",
    "\n",
    "H-DIBCO - DONE\n",
    "\n",
    "ABP TABLES - DONE\n",
    "\n",
    "IDCAR cBAD - DONE"
   ]
  },
  {
   "cell_type": "markdown",
   "id": "359173ea",
   "metadata": {},
   "source": [
    "### 3) LOOK FOR PRE-TRAINED MODELS ON TENSORFLOW HUB\n",
    "\n",
    "** TO DO **"
   ]
  },
  {
   "cell_type": "markdown",
   "id": "ca64f91a",
   "metadata": {},
   "source": [
    "### 4) DECIDE WHAT APPROACHES TO CHOOSE FROM WHAT PAPERS\n",
    "\n",
    "(MICHAEL SAID TO TRY THRESHOLDING FIRST)\n",
    "\n",
    "** TO DO **"
   ]
  },
  {
   "cell_type": "markdown",
   "id": "8ae62740",
   "metadata": {},
   "source": [
    "#### (ALSO TRY EXISTING GALLEGO & AZAD CODE FROM GITHUB ON H-DIBCO DATA)"
   ]
  },
  {
   "cell_type": "markdown",
   "id": "ce819e9f",
   "metadata": {},
   "source": [
    "### 5) DECIDE WHICH CODE LIBRARIES, FUNCTIONS, etc., TO USE\n",
    "\n",
    "** TO DO **"
   ]
  }
 ],
 "metadata": {
  "kernelspec": {
   "display_name": "Python 3",
   "language": "python",
   "name": "python3"
  },
  "language_info": {
   "codemirror_mode": {
    "name": "ipython",
    "version": 3
   },
   "file_extension": ".py",
   "mimetype": "text/x-python",
   "name": "python",
   "nbconvert_exporter": "python",
   "pygments_lexer": "ipython3",
   "version": "3.8.8"
  }
 },
 "nbformat": 4,
 "nbformat_minor": 5
}
