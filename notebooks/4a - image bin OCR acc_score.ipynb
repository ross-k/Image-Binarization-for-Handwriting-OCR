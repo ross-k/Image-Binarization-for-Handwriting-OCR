{
 "cells": [
  {
   "cell_type": "markdown",
   "id": "cb5acba3",
   "metadata": {},
   "source": [
    "## IMAGE BINARIZATION FOR HANDWRITING OCR\n",
    "\n",
    "v4 - EDA - Ross Kimberlin - 6/7/2022\n",
    "\n",
    "(SEE https://github.com/ross-k/Image-Binarization-for-Handwriting-OCR/tree/ross-test/notebooks)"
   ]
  },
  {
   "cell_type": "code",
   "execution_count": 44,
   "id": "2eef831d",
   "metadata": {},
   "outputs": [],
   "source": [
    "import cv2\n",
    "import glob\n",
    "import imageio as imi\n",
    "import matplotlib.pyplot as plt\n",
    "import numpy as np\n",
    "import os\n",
    "import pandas as pd\n",
    "from scipy import misc, ndimage\n",
    "from scipy import misc, ndimage\n",
    "from sklearn.metrics import accuracy_score, f1_score\n",
    "#    classification_report, confusion_matrix, \n",
    "from sklearn.model_selection import train_test_split\n",
    "from sklearn.preprocessing import LabelEncoder\n",
    "import tensorflow as tf\n",
    "\n",
    "%matplotlib inline"
   ]
  },
  {
   "cell_type": "markdown",
   "id": "a3dc88e6",
   "metadata": {},
   "source": [
    "## STEP 1) READ IMAGES INTO PYTHON AND INSPECT"
   ]
  },
  {
   "cell_type": "markdown",
   "id": "4322ff2a",
   "metadata": {},
   "source": [
    "### H-DIBCO DATA SET"
   ]
  },
  {
   "cell_type": "code",
   "execution_count": 2,
   "id": "45947f88",
   "metadata": {},
   "outputs": [],
   "source": [
    "read_dir_DIBCO_GT = '../data/H-DIBCO_data/DIBCO/2016/DIPCO2016_Dataset_GT/'"
   ]
  },
  {
   "cell_type": "code",
   "execution_count": 3,
   "id": "b080cac5",
   "metadata": {},
   "outputs": [],
   "source": [
    "read_dir_DIBCO    = '../data/H-DIBCO_data/DIBCO/2016/DIPCO2016_dataset/'"
   ]
  },
  {
   "cell_type": "code",
   "execution_count": 4,
   "id": "24b0cc44",
   "metadata": {},
   "outputs": [],
   "source": [
    "DIBCO_GT = []\n",
    "DIBCO_orig = []\n",
    "\n",
    "for file in sorted(glob.glob(read_dir_DIBCO_GT + '*.bmp'),\n",
    "       key = lambda x: int((x.split('GT/')[1]).split('_gt')[0])):\n",
    "\n",
    "    # CHANGING TO GRAYSCALE\n",
    "    DIBCO_GT.append(cv2.imread(file,\n",
    "                               cv2.IMREAD_GRAYSCALE))\n",
    "    \n",
    "for file in sorted(glob.glob(read_dir_DIBCO + '*.bmp'),\n",
    "       key = lambda x: int((x.split('_dataset/')[1]).split('.bmp')[0])):\n",
    "\n",
    "    # CHANGING TO GRAYSCALE\n",
    "    DIBCO_orig.append(cv2.imread(file,\n",
    "                               cv2.IMREAD_GRAYSCALE))"
   ]
  },
  {
   "cell_type": "code",
   "execution_count": 5,
   "id": "e1f662ba",
   "metadata": {},
   "outputs": [
    {
     "data": {
      "text/plain": [
       "['../data/H-DIBCO_data/DIBCO/2016/DIPCO2016_Dataset_GT/1_gt.bmp',\n",
       " '../data/H-DIBCO_data/DIBCO/2016/DIPCO2016_Dataset_GT/2_gt.bmp',\n",
       " '../data/H-DIBCO_data/DIBCO/2016/DIPCO2016_Dataset_GT/3_gt.bmp',\n",
       " '../data/H-DIBCO_data/DIBCO/2016/DIPCO2016_Dataset_GT/4_gt.bmp',\n",
       " '../data/H-DIBCO_data/DIBCO/2016/DIPCO2016_Dataset_GT/5_gt.bmp',\n",
       " '../data/H-DIBCO_data/DIBCO/2016/DIPCO2016_Dataset_GT/6_gt.bmp',\n",
       " '../data/H-DIBCO_data/DIBCO/2016/DIPCO2016_Dataset_GT/7_gt.bmp',\n",
       " '../data/H-DIBCO_data/DIBCO/2016/DIPCO2016_Dataset_GT/8_gt.bmp',\n",
       " '../data/H-DIBCO_data/DIBCO/2016/DIPCO2016_Dataset_GT/9_gt.bmp',\n",
       " '../data/H-DIBCO_data/DIBCO/2016/DIPCO2016_Dataset_GT/10_gt.bmp']"
      ]
     },
     "execution_count": 5,
     "metadata": {},
     "output_type": "execute_result"
    }
   ],
   "source": [
    "sorted(glob.glob(read_dir_DIBCO_GT + '*.bmp'),\n",
    "       key = lambda x: int((x.split('GT/')[1]).split('_gt')[0]))"
   ]
  },
  {
   "cell_type": "code",
   "execution_count": 6,
   "id": "9adce6ab",
   "metadata": {},
   "outputs": [
    {
     "data": {
      "text/plain": [
       "['../data/H-DIBCO_data/DIBCO/2016/DIPCO2016_dataset/1.bmp',\n",
       " '../data/H-DIBCO_data/DIBCO/2016/DIPCO2016_dataset/2.bmp',\n",
       " '../data/H-DIBCO_data/DIBCO/2016/DIPCO2016_dataset/3.bmp',\n",
       " '../data/H-DIBCO_data/DIBCO/2016/DIPCO2016_dataset/4.bmp',\n",
       " '../data/H-DIBCO_data/DIBCO/2016/DIPCO2016_dataset/5.bmp',\n",
       " '../data/H-DIBCO_data/DIBCO/2016/DIPCO2016_dataset/6.bmp',\n",
       " '../data/H-DIBCO_data/DIBCO/2016/DIPCO2016_dataset/7.bmp',\n",
       " '../data/H-DIBCO_data/DIBCO/2016/DIPCO2016_dataset/8.bmp',\n",
       " '../data/H-DIBCO_data/DIBCO/2016/DIPCO2016_dataset/9.bmp',\n",
       " '../data/H-DIBCO_data/DIBCO/2016/DIPCO2016_dataset/10.bmp']"
      ]
     },
     "execution_count": 6,
     "metadata": {},
     "output_type": "execute_result"
    }
   ],
   "source": [
    "sorted(glob.glob(read_dir_DIBCO + '*.bmp'),\n",
    "       key = lambda x: int((x.split('_dataset/')[1]).split('.bmp')[0]))"
   ]
  },
  {
   "cell_type": "code",
   "execution_count": null,
   "id": "c6126953",
   "metadata": {},
   "outputs": [],
   "source": []
  },
  {
   "cell_type": "markdown",
   "id": "eaf6a5a7",
   "metadata": {},
   "source": [
    "## STEP 2) TRAINING"
   ]
  },
  {
   "cell_type": "markdown",
   "id": "1949bdb4",
   "metadata": {},
   "source": [
    "#### USING DIBCO DATA FIRST"
   ]
  },
  {
   "cell_type": "code",
   "execution_count": 7,
   "id": "a69a5f91",
   "metadata": {},
   "outputs": [],
   "source": [
    "X_train_D, X_test_D, y_train_D, y_test_D = train_test_split(DIBCO_orig,\n",
    "                                                            DIBCO_GT,\n",
    "                                                            train_size = 0.75,\n",
    "                                                            test_size = 0.25,\n",
    "                                                            random_state = 321)"
   ]
  },
  {
   "cell_type": "markdown",
   "id": "92d58752",
   "metadata": {},
   "source": [
    "#### TRYING WITH accuracy_score FIRST.  MICHAEL SAYS THAT AN f1 SCORE WILL WORK BETTER WHEN THERE ARE MORE BACKGROUND THAN FOREGROUND PIXELS, AND THAT GALLEGO & CALVO-ZARAGOZA SAY THAT A LARGER WINDOW SIZE SEEMS TO PRODUCE A BETTER f1 SCORE."
   ]
  },
  {
   "cell_type": "code",
   "execution_count": 9,
   "id": "e799baf0",
   "metadata": {},
   "outputs": [],
   "source": [
    "def thresh_acc_D(thresh):\n",
    "   \n",
    "    accuracies_DIBCO = []\n",
    "\n",
    "    for ground_truth, original in zip(y_train_D, X_train_D):\n",
    "        \n",
    "        # KEEPS THE SECOND ELEMENT OF A TUPLE\n",
    "        _, predicted = cv2.threshold(original,\n",
    "                                     thresh, 255, \n",
    "                                     cv2.THRESH_BINARY)\n",
    "        \n",
    "        # COMPUTE ACCURACY SCORES ACROSS TRAINING DATA\n",
    "        accuracies_DIBCO.append(accuracy_score(ground_truth.flatten(),\n",
    "                                               predicted.flatten()))\n",
    "    \n",
    "    # AVERAGE ACCURACY SCORES\n",
    "    return np.mean(accuracies_DIBCO) "
   ]
  },
  {
   "cell_type": "code",
   "execution_count": null,
   "id": "af675f66",
   "metadata": {},
   "outputs": [],
   "source": [
    "thresh_acc_D(160)"
   ]
  },
  {
   "cell_type": "code",
   "execution_count": 10,
   "id": "9bb96805",
   "metadata": {},
   "outputs": [],
   "source": [
    "accs_D = []\n",
    "\n",
    "for thresh in range(0, 255):\n",
    "    \n",
    "    accs_D.append(thresh_acc_D(thresh))"
   ]
  },
  {
   "cell_type": "code",
   "execution_count": 11,
   "id": "c85be48f",
   "metadata": {},
   "outputs": [
    {
     "data": {
      "text/plain": [
       "0.9719764300186599"
      ]
     },
     "execution_count": 11,
     "metadata": {},
     "output_type": "execute_result"
    }
   ],
   "source": [
    "np.asarray(accs_D).max()"
   ]
  },
  {
   "cell_type": "code",
   "execution_count": 12,
   "id": "57fcfac7",
   "metadata": {},
   "outputs": [
    {
     "data": {
      "text/plain": [
       "121"
      ]
     },
     "execution_count": 12,
     "metadata": {},
     "output_type": "execute_result"
    }
   ],
   "source": [
    "np.asarray(accs_D).argmax()"
   ]
  },
  {
   "cell_type": "code",
   "execution_count": 13,
   "id": "e4ea6bbd",
   "metadata": {},
   "outputs": [
    {
     "data": {
      "image/png": "[encoded data removed]",
      "text/plain": [
       "<Figure size 432x288 with 1 Axes>"
      ]
     },
     "metadata": {
      "needs_background": "light"
     },
     "output_type": "display_data"
    }
   ],
   "source": [
    "plt.plot(accs_D);"
   ]
  },
  {
   "cell_type": "code",
   "execution_count": null,
   "id": "460d8971",
   "metadata": {},
   "outputs": [],
   "source": []
  },
  {
   "cell_type": "code",
   "execution_count": 14,
   "id": "008b58c2",
   "metadata": {},
   "outputs": [],
   "source": [
    "# img = DIBCO_orig # [0]\n",
    "# img"
   ]
  },
  {
   "cell_type": "code",
   "execution_count": 15,
   "id": "d85ab127",
   "metadata": {},
   "outputs": [],
   "source": [
    "window_size = 64"
   ]
  },
  {
   "cell_type": "code",
   "execution_count": 17,
   "id": "175efbe2",
   "metadata": {},
   "outputs": [],
   "source": [
    "# img[0:window_size, \n",
    "#     0:window_size ]"
   ]
  },
  {
   "cell_type": "code",
   "execution_count": null,
   "id": "bdf5ab36",
   "metadata": {},
   "outputs": [],
   "source": [
    "# img[0:window_size, \n",
    "#     0:window_size ].shape"
   ]
  },
  {
   "cell_type": "code",
   "execution_count": null,
   "id": "1aa05b23",
   "metadata": {},
   "outputs": [],
   "source": [
    "# plt.imshow(img[0:window_size, \n",
    "#                0:window_size, ]);"
   ]
  },
  {
   "cell_type": "code",
   "execution_count": null,
   "id": "c6db5d89",
   "metadata": {},
   "outputs": [],
   "source": [
    "# img.shape"
   ]
  },
  {
   "cell_type": "code",
   "execution_count": null,
   "id": "59791cd4",
   "metadata": {},
   "outputs": [],
   "source": []
  },
  {
   "cell_type": "code",
   "execution_count": 18,
   "id": "51fb4fee",
   "metadata": {},
   "outputs": [],
   "source": [
    "def arr_div(img):\n",
    "\n",
    "    cont = []\n",
    "    \n",
    "    idx_row_start_n = 0\n",
    "    idx_col_start_n = 0\n",
    "    \n",
    "    im_size = img.shape\n",
    "    \n",
    "    # // GIVES YOU INTEGER DIVISION\n",
    "    n_windows_tall = im_size[0] // window_size\n",
    "    n_windows_wide = im_size[1] // window_size\n",
    "    \n",
    "    for idx_row_start_n in range(n_windows_tall):\n",
    "    \n",
    "        for idx_col_start_n in range(n_windows_wide):\n",
    "            \n",
    "            window = img[window_size * idx_row_start_n: \\\n",
    "                                     window_size * (idx_row_start_n + 1), \n",
    "                window_size * idx_col_start_n: window_size * (idx_col_start_n + 1)]\n",
    "    \n",
    "            window = np.divide(window, 255)\n",
    "        \n",
    "            cont.append(window)\n",
    "    \n",
    "    return cont"
   ]
  },
  {
   "cell_type": "code",
   "execution_count": 19,
   "id": "ea0ed848",
   "metadata": {},
   "outputs": [],
   "source": [
    "X = []\n",
    "\n",
    "for img in DIBCO_orig:\n",
    "    \n",
    "    # extend CREATES ONE LONG LIST INSTEAD OF SEVERAL LISTS\n",
    "    X.extend(arr_div(img))"
   ]
  },
  {
   "cell_type": "code",
   "execution_count": 20,
   "id": "0093b6be",
   "metadata": {},
   "outputs": [],
   "source": [
    "X = np.array(X)"
   ]
  },
  {
   "cell_type": "code",
   "execution_count": 21,
   "id": "e20cd938",
   "metadata": {},
   "outputs": [],
   "source": [
    "y = []\n",
    "\n",
    "for img in DIBCO_GT:\n",
    "    \n",
    "    # CREATES ONE LONG LIST INSTEAD OF SEVERAL LISTS\n",
    "    y.extend(arr_div(img))"
   ]
  },
  {
   "cell_type": "code",
   "execution_count": 22,
   "id": "7b1ff588",
   "metadata": {},
   "outputs": [],
   "source": [
    "y = np.array(y)"
   ]
  },
  {
   "cell_type": "code",
   "execution_count": 23,
   "id": "df5c793e",
   "metadata": {},
   "outputs": [],
   "source": [
    "window = arr_div(img)"
   ]
  },
  {
   "cell_type": "code",
   "execution_count": 24,
   "id": "35f8a8ff",
   "metadata": {},
   "outputs": [
    {
     "data": {
      "text/plain": [
       "[array([[1., 1., 1., ..., 1., 1., 1.],\n",
       "        [1., 1., 1., ..., 1., 1., 1.],\n",
       "        [1., 1., 1., ..., 1., 1., 1.],\n",
       "        ...,\n",
       "        [1., 1., 1., ..., 1., 1., 1.],\n",
       "        [1., 1., 1., ..., 1., 1., 1.],\n",
       "        [1., 1., 1., ..., 1., 1., 1.]]),\n",
       " array([[1., 1., 1., ..., 1., 1., 1.],\n",
       "        [1., 1., 1., ..., 1., 1., 1.],\n",
       "        [1., 1., 1., ..., 1., 1., 1.],\n",
       "        ...,\n",
       "        [1., 1., 1., ..., 1., 1., 1.],\n",
       "        [1., 1., 1., ..., 1., 1., 1.],\n",
       "        [1., 1., 1., ..., 1., 1., 1.]]),\n",
       " array([[1., 1., 1., ..., 1., 1., 1.],\n",
       "        [1., 1., 1., ..., 1., 1., 1.],\n",
       "        [1., 1., 1., ..., 1., 1., 1.],\n",
       "        ...,\n",
       "        [1., 1., 1., ..., 1., 1., 1.],\n",
       "        [1., 1., 1., ..., 1., 1., 1.],\n",
       "        [1., 1., 1., ..., 1., 1., 1.]]),\n",
       " array([[1., 1., 1., ..., 1., 1., 1.],\n",
       "        [1., 1., 1., ..., 1., 1., 1.],\n",
       "        [1., 1., 1., ..., 1., 1., 1.],\n",
       "        ...,\n",
       "        [1., 1., 1., ..., 1., 1., 1.],\n",
       "        [1., 1., 1., ..., 1., 1., 1.],\n",
       "        [1., 1., 1., ..., 1., 1., 1.]]),\n",
       " array([[1., 1., 1., ..., 1., 1., 1.],\n",
       "        [1., 1., 1., ..., 1., 1., 1.],\n",
       "        [1., 1., 1., ..., 1., 1., 1.],\n",
       "        ...,\n",
       "        [1., 1., 1., ..., 1., 1., 1.],\n",
       "        [1., 1., 1., ..., 1., 1., 1.],\n",
       "        [1., 1., 1., ..., 1., 1., 1.]]),\n",
       " array([[1., 1., 1., ..., 1., 1., 1.],\n",
       "        [1., 1., 1., ..., 1., 1., 1.],\n",
       "        [1., 1., 1., ..., 1., 1., 1.],\n",
       "        ...,\n",
       "        [1., 1., 1., ..., 1., 1., 1.],\n",
       "        [1., 1., 1., ..., 1., 1., 1.],\n",
       "        [1., 1., 1., ..., 1., 1., 1.]]),\n",
       " array([[1., 1., 1., ..., 1., 1., 1.],\n",
       "        [1., 1., 1., ..., 1., 1., 1.],\n",
       "        [1., 1., 1., ..., 1., 1., 1.],\n",
       "        ...,\n",
       "        [1., 1., 1., ..., 1., 1., 1.],\n",
       "        [1., 1., 1., ..., 1., 1., 1.],\n",
       "        [1., 1., 1., ..., 1., 1., 1.]]),\n",
       " array([[1., 1., 1., ..., 1., 1., 1.],\n",
       "        [1., 1., 1., ..., 1., 1., 1.],\n",
       "        [1., 1., 1., ..., 1., 1., 1.],\n",
       "        ...,\n",
       "        [1., 1., 1., ..., 1., 1., 1.],\n",
       "        [1., 1., 1., ..., 1., 1., 1.],\n",
       "        [1., 1., 1., ..., 1., 1., 1.]]),\n",
       " array([[1., 1., 1., ..., 1., 1., 1.],\n",
       "        [1., 1., 1., ..., 1., 1., 1.],\n",
       "        [1., 1., 1., ..., 1., 1., 1.],\n",
       "        ...,\n",
       "        [1., 1., 0., ..., 1., 1., 1.],\n",
       "        [1., 1., 0., ..., 1., 1., 1.],\n",
       "        [1., 0., 0., ..., 1., 1., 1.]]),\n",
       " array([[1., 1., 1., ..., 1., 1., 1.],\n",
       "        [1., 1., 1., ..., 1., 1., 1.],\n",
       "        [1., 1., 1., ..., 1., 1., 1.],\n",
       "        ...,\n",
       "        [1., 1., 1., ..., 1., 1., 1.],\n",
       "        [1., 1., 1., ..., 1., 1., 1.],\n",
       "        [1., 1., 1., ..., 1., 1., 1.]]),\n",
       " array([[1., 1., 1., ..., 1., 1., 1.],\n",
       "        [1., 1., 1., ..., 1., 1., 1.],\n",
       "        [1., 1., 1., ..., 1., 1., 1.],\n",
       "        ...,\n",
       "        [1., 1., 1., ..., 1., 1., 1.],\n",
       "        [1., 1., 1., ..., 1., 1., 0.],\n",
       "        [1., 1., 1., ..., 0., 0., 1.]]),\n",
       " array([[1., 1., 1., ..., 1., 1., 1.],\n",
       "        [1., 1., 1., ..., 1., 1., 1.],\n",
       "        [1., 1., 1., ..., 1., 1., 1.],\n",
       "        ...,\n",
       "        [1., 0., 0., ..., 1., 1., 1.],\n",
       "        [0., 0., 0., ..., 1., 1., 1.],\n",
       "        [0., 0., 0., ..., 1., 1., 1.]]),\n",
       " array([[1., 1., 0., ..., 1., 1., 1.],\n",
       "        [1., 0., 0., ..., 1., 1., 1.],\n",
       "        [1., 0., 0., ..., 1., 1., 0.],\n",
       "        ...,\n",
       "        [1., 1., 1., ..., 1., 1., 1.],\n",
       "        [1., 1., 1., ..., 1., 1., 1.],\n",
       "        [1., 1., 1., ..., 1., 1., 1.]]),\n",
       " array([[0., 0., 0., ..., 1., 1., 1.],\n",
       "        [0., 0., 0., ..., 1., 1., 1.],\n",
       "        [0., 0., 1., ..., 1., 1., 1.],\n",
       "        ...,\n",
       "        [1., 1., 1., ..., 0., 0., 0.],\n",
       "        [1., 1., 1., ..., 0., 0., 0.],\n",
       "        [1., 1., 1., ..., 0., 1., 1.]]),\n",
       " array([[1., 1., 1., ..., 1., 1., 1.],\n",
       "        [1., 1., 1., ..., 1., 1., 1.],\n",
       "        [1., 1., 1., ..., 1., 1., 1.],\n",
       "        ...,\n",
       "        [1., 1., 1., ..., 1., 1., 1.],\n",
       "        [1., 1., 1., ..., 1., 1., 1.],\n",
       "        [1., 1., 1., ..., 1., 1., 1.]]),\n",
       " array([[1., 1., 1., ..., 1., 1., 1.],\n",
       "        [1., 1., 1., ..., 1., 1., 1.],\n",
       "        [1., 1., 1., ..., 1., 1., 1.],\n",
       "        ...,\n",
       "        [0., 0., 0., ..., 1., 1., 1.],\n",
       "        [0., 1., 1., ..., 1., 1., 1.],\n",
       "        [1., 1., 1., ..., 1., 1., 1.]]),\n",
       " array([[1., 0., 0., ..., 1., 1., 1.],\n",
       "        [1., 0., 0., ..., 1., 1., 1.],\n",
       "        [1., 0., 0., ..., 1., 1., 1.],\n",
       "        ...,\n",
       "        [1., 1., 1., ..., 1., 1., 1.],\n",
       "        [1., 1., 1., ..., 1., 1., 1.],\n",
       "        [1., 1., 1., ..., 1., 1., 1.]]),\n",
       " array([[1., 1., 1., ..., 1., 1., 1.],\n",
       "        [1., 1., 1., ..., 1., 1., 1.],\n",
       "        [1., 1., 1., ..., 1., 1., 1.],\n",
       "        ...,\n",
       "        [1., 1., 1., ..., 1., 1., 1.],\n",
       "        [1., 1., 1., ..., 1., 1., 1.],\n",
       "        [1., 1., 1., ..., 1., 1., 1.]]),\n",
       " array([[1., 1., 1., ..., 0., 1., 1.],\n",
       "        [1., 1., 1., ..., 1., 1., 1.],\n",
       "        [1., 1., 1., ..., 1., 1., 1.],\n",
       "        ...,\n",
       "        [1., 1., 1., ..., 1., 1., 1.],\n",
       "        [1., 1., 1., ..., 1., 1., 1.],\n",
       "        [1., 1., 1., ..., 1., 1., 1.]]),\n",
       " array([[1., 1., 1., ..., 1., 1., 1.],\n",
       "        [1., 1., 1., ..., 1., 1., 1.],\n",
       "        [1., 1., 1., ..., 1., 1., 1.],\n",
       "        ...,\n",
       "        [1., 1., 1., ..., 1., 1., 1.],\n",
       "        [1., 1., 1., ..., 1., 1., 1.],\n",
       "        [1., 1., 1., ..., 1., 1., 1.]])]"
      ]
     },
     "execution_count": 24,
     "metadata": {},
     "output_type": "execute_result"
    }
   ],
   "source": [
    "window"
   ]
  },
  {
   "cell_type": "code",
   "execution_count": null,
   "id": "bb64c45b",
   "metadata": {},
   "outputs": [],
   "source": [
    "# img_GT = DIBCO_GT[0]"
   ]
  },
  {
   "cell_type": "code",
   "execution_count": 26,
   "id": "675b6ba1",
   "metadata": {},
   "outputs": [],
   "source": [
    "# arr_div(img_GT)"
   ]
  },
  {
   "cell_type": "code",
   "execution_count": 27,
   "id": "ec2b6ac5",
   "metadata": {},
   "outputs": [
    {
     "data": {
      "text/plain": [
       "2979"
      ]
     },
     "execution_count": 27,
     "metadata": {},
     "output_type": "execute_result"
    }
   ],
   "source": [
    "len(X)"
   ]
  },
  {
   "cell_type": "code",
   "execution_count": 28,
   "id": "6aba9b66",
   "metadata": {},
   "outputs": [
    {
     "data": {
      "text/plain": [
       "(64, 64)"
      ]
     },
     "execution_count": 28,
     "metadata": {},
     "output_type": "execute_result"
    }
   ],
   "source": [
    "X[0].shape"
   ]
  },
  {
   "cell_type": "code",
   "execution_count": null,
   "id": "032644a7",
   "metadata": {},
   "outputs": [],
   "source": []
  },
  {
   "cell_type": "markdown",
   "id": "d0e24f94",
   "metadata": {},
   "source": [
    "### STEP 3) KERAS MODEL - THE MOMENT YOU HAVE BEEN WAITING FOR"
   ]
  },
  {
   "cell_type": "code",
   "execution_count": 29,
   "id": "19cdefc0",
   "metadata": {},
   "outputs": [
    {
     "name": "stdout",
     "output_type": "stream",
     "text": [
      "Model: \"sequential\"\n",
      "_________________________________________________________________\n",
      " Layer (type)                Output Shape              Param #   \n",
      "=================================================================\n",
      " conv2d (Conv2D)             (None, 64, 64, 32)        320       \n",
      "                                                                 \n",
      " batch_normalization (BatchN  (None, 64, 64, 32)       256       \n",
      " ormalization)                                                   \n",
      "                                                                 \n",
      " activation (Activation)     (None, 64, 64, 32)        0         \n",
      "                                                                 \n",
      " conv2d_1 (Conv2D)           (None, 64, 64, 32)        9248      \n",
      "                                                                 \n",
      " batch_normalization_1 (Batc  (None, 64, 64, 32)       256       \n",
      " hNormalization)                                                 \n",
      "                                                                 \n",
      " activation_1 (Activation)   (None, 64, 64, 32)        0         \n",
      "                                                                 \n",
      " conv2d_2 (Conv2D)           (None, 64, 64, 32)        9248      \n",
      "                                                                 \n",
      " batch_normalization_2 (Batc  (None, 64, 64, 32)       256       \n",
      " hNormalization)                                                 \n",
      "                                                                 \n",
      " activation_2 (Activation)   (None, 64, 64, 32)        0         \n",
      "                                                                 \n",
      " conv2d_transpose (Conv2DTra  (None, 64, 64, 32)       9248      \n",
      " nspose)                                                         \n",
      "                                                                 \n",
      " batch_normalization_3 (Batc  (None, 64, 64, 32)       256       \n",
      " hNormalization)                                                 \n",
      "                                                                 \n",
      " activation_3 (Activation)   (None, 64, 64, 32)        0         \n",
      "                                                                 \n",
      " conv2d_transpose_1 (Conv2DT  (None, 64, 64, 32)       9248      \n",
      " ranspose)                                                       \n",
      "                                                                 \n",
      " batch_normalization_4 (Batc  (None, 64, 64, 32)       256       \n",
      " hNormalization)                                                 \n",
      "                                                                 \n",
      " activation_4 (Activation)   (None, 64, 64, 32)        0         \n",
      "                                                                 \n",
      " conv2d_transpose_2 (Conv2DT  (None, 64, 64, 32)       9248      \n",
      " ranspose)                                                       \n",
      "                                                                 \n",
      " batch_normalization_5 (Batc  (None, 64, 64, 32)       256       \n",
      " hNormalization)                                                 \n",
      "                                                                 \n",
      " activation_5 (Activation)   (None, 64, 64, 32)        0         \n",
      "                                                                 \n",
      " conv2d_3 (Conv2D)           (None, 64, 64, 1)         289       \n",
      "                                                                 \n",
      "=================================================================\n",
      "Total params: 48,385\n",
      "Trainable params: 47,617\n",
      "Non-trainable params: 768\n",
      "_________________________________________________________________\n"
     ]
    }
   ],
   "source": [
    "model = tf.keras.Sequential(\n",
    "    [\n",
    "        tf.keras.Input(shape = (window_size, window_size, 1)),\n",
    "        tf.keras.layers.Conv2D(32, \n",
    "                               kernel_size=(3, 3),\n",
    "                               strides = 1,\n",
    "                               padding = 'same'),\n",
    "        tf.keras.layers.BatchNormalization(axis = 1),\n",
    "        tf.keras.layers.Activation('relu'),\n",
    "        tf.keras.layers.Conv2D(32, \n",
    "                               kernel_size=(3, 3),\n",
    "                               strides = 1,\n",
    "                               padding = 'same'),\n",
    "        tf.keras.layers.BatchNormalization(axis = 1),\n",
    "        tf.keras.layers.Activation('relu'),\n",
    "        tf.keras.layers.Conv2D(32, \n",
    "                               kernel_size=(3, 3),\n",
    "                               strides = 1,\n",
    "                               padding = 'same'),                       \n",
    "        tf.keras.layers.BatchNormalization(axis = 1),\n",
    "        tf.keras.layers.Activation('relu'),      \n",
    "        tf.keras.layers.Conv2DTranspose(32, \n",
    "                               kernel_size=(3, 3),\n",
    "                               strides = 1,\n",
    "                               padding = 'same'),\n",
    "        tf.keras.layers.BatchNormalization(axis = 1),\n",
    "        tf.keras.layers.Activation('relu'),                       \n",
    "        tf.keras.layers.Conv2DTranspose(32, \n",
    "                               kernel_size=(3, 3),\n",
    "                               strides = 1,\n",
    "                               padding = 'same'),\n",
    "        tf.keras.layers.BatchNormalization(axis = 1),\n",
    "        tf.keras.layers.Activation('relu'), \n",
    "        tf.keras.layers.Conv2DTranspose(32, \n",
    "                               kernel_size=(3, 3),\n",
    "                               strides = 1,\n",
    "                               padding = 'same'),\n",
    "        tf.keras.layers.BatchNormalization(axis = 1),\n",
    "        tf.keras.layers.Activation('relu'), \n",
    "        tf.keras.layers.Conv2D(1, \n",
    "                               kernel_size=(3, 3), \n",
    "                               strides=1, \n",
    "                               padding='same', \n",
    "                               activation='sigmoid')                     \n",
    "    ]\n",
    ")\n",
    "\n",
    "model.summary()\n",
    "\n",
    "model.compile('rmsprop', \n",
    "              'binary_crossentropy')"
   ]
  },
  {
   "cell_type": "code",
   "execution_count": 30,
   "id": "55887d9f",
   "metadata": {},
   "outputs": [
    {
     "name": "stdout",
     "output_type": "stream",
     "text": [
      "Epoch 1/10\n",
      "94/94 [==============================] - 66s 694ms/step - loss: 0.0987\n",
      "Epoch 2/10\n",
      "94/94 [==============================] - 64s 683ms/step - loss: 0.0547\n",
      "Epoch 3/10\n",
      "94/94 [==============================] - 63s 672ms/step - loss: 0.0444\n",
      "Epoch 4/10\n",
      "94/94 [==============================] - 63s 673ms/step - loss: 0.0416\n",
      "Epoch 5/10\n",
      "94/94 [==============================] - 63s 675ms/step - loss: 0.0378\n",
      "Epoch 6/10\n",
      "94/94 [==============================] - 67s 710ms/step - loss: 0.0343\n",
      "Epoch 7/10\n",
      "94/94 [==============================] - 63s 669ms/step - loss: 0.0418\n",
      "Epoch 8/10\n",
      "94/94 [==============================] - 63s 668ms/step - loss: 0.0331\n",
      "Epoch 9/10\n",
      "94/94 [==============================] - 63s 668ms/step - loss: 0.0319\n",
      "Epoch 10/10\n",
      "94/94 [==============================] - 63s 668ms/step - loss: 0.0309\n"
     ]
    },
    {
     "data": {
      "text/plain": [
       "<keras.callbacks.History at 0x7f8b63541ac0>"
      ]
     },
     "execution_count": 30,
     "metadata": {},
     "output_type": "execute_result"
    }
   ],
   "source": [
    "model.fit(X, y,\n",
    "          epochs = 10)"
   ]
  },
  {
   "cell_type": "code",
   "execution_count": 31,
   "id": "95b43204",
   "metadata": {},
   "outputs": [],
   "source": [
    "predictions = model.predict(X)"
   ]
  },
  {
   "cell_type": "code",
   "execution_count": 32,
   "id": "09637fe6",
   "metadata": {},
   "outputs": [
    {
     "data": {
      "text/plain": [
       "<matplotlib.image.AxesImage at 0x7f8b2d94d1c0>"
      ]
     },
     "execution_count": 32,
     "metadata": {},
     "output_type": "execute_result"
    },
    {
     "data": {
      "image/png": "[encoded data removed]",
      "text/plain": [
       "<Figure size 432x288 with 1 Axes>"
      ]
     },
     "metadata": {
      "needs_background": "light"
     },
     "output_type": "display_data"
    }
   ],
   "source": [
    "plt.imshow(y[- 1])"
   ]
  },
  {
   "cell_type": "code",
   "execution_count": 33,
   "id": "2179dc85",
   "metadata": {},
   "outputs": [
    {
     "data": {
      "text/plain": [
       "<matplotlib.image.AxesImage at 0x7f8b2dcd0a90>"
      ]
     },
     "execution_count": 33,
     "metadata": {},
     "output_type": "execute_result"
    },
    {
     "data": {
      "image/png": "[encoded data removed]",
      "text/plain": [
       "<Figure size 432x288 with 1 Axes>"
      ]
     },
     "metadata": {
      "needs_background": "light"
     },
     "output_type": "display_data"
    }
   ],
   "source": [
    "plt.imshow(predictions[- 1] > 0.5)"
   ]
  },
  {
   "cell_type": "code",
   "execution_count": 34,
   "id": "ad4b5c1b",
   "metadata": {},
   "outputs": [
    {
     "data": {
      "text/plain": [
       "0.99998736"
      ]
     },
     "execution_count": 34,
     "metadata": {},
     "output_type": "execute_result"
    }
   ],
   "source": [
    "predictions.max()"
   ]
  },
  {
   "cell_type": "code",
   "execution_count": 35,
   "id": "7992d0bb",
   "metadata": {},
   "outputs": [
    {
     "data": {
      "text/plain": [
       "9.87738e-18"
      ]
     },
     "execution_count": 35,
     "metadata": {},
     "output_type": "execute_result"
    }
   ],
   "source": [
    "predictions.min()"
   ]
  },
  {
   "cell_type": "code",
   "execution_count": 39,
   "id": "1f33915f",
   "metadata": {},
   "outputs": [
    {
     "data": {
      "text/plain": [
       "3"
      ]
     },
     "execution_count": 39,
     "metadata": {},
     "output_type": "execute_result"
    }
   ],
   "source": [
    "len(y_test_D)"
   ]
  },
  {
   "cell_type": "code",
   "execution_count": 40,
   "id": "00e3035a",
   "metadata": {},
   "outputs": [
    {
     "data": {
      "text/plain": [
       "2979"
      ]
     },
     "execution_count": 40,
     "metadata": {},
     "output_type": "execute_result"
    }
   ],
   "source": [
    "len(y)"
   ]
  },
  {
   "cell_type": "code",
   "execution_count": 41,
   "id": "68e24959",
   "metadata": {},
   "outputs": [
    {
     "data": {
      "text/plain": [
       "3"
      ]
     },
     "execution_count": 41,
     "metadata": {},
     "output_type": "execute_result"
    }
   ],
   "source": [
    "len(X_test_D)"
   ]
  },
  {
   "cell_type": "code",
   "execution_count": 42,
   "id": "c5990481",
   "metadata": {},
   "outputs": [
    {
     "data": {
      "text/plain": [
       "2979"
      ]
     },
     "execution_count": 42,
     "metadata": {},
     "output_type": "execute_result"
    }
   ],
   "source": [
    "len(predictions)"
   ]
  },
  {
   "cell_type": "code",
   "execution_count": 43,
   "id": "62c73b9c",
   "metadata": {},
   "outputs": [
    {
     "ename": "ValueError",
     "evalue": "unknown is not supported",
     "output_type": "error",
     "traceback": [
      "\u001b[0;31m---------------------------------------------------------------------------\u001b[0m",
      "\u001b[0;31mValueError\u001b[0m                                Traceback (most recent call last)",
      "\u001b[0;32m<ipython-input-43-bd2aa32d802c>\u001b[0m in \u001b[0;36m<module>\u001b[0;34m\u001b[0m\n\u001b[0;32m----> 1\u001b[0;31m print(classification_report(y, \n\u001b[0m\u001b[1;32m      2\u001b[0m                             predictions))\n",
      "\u001b[0;32m/opt/anaconda3/lib/python3.8/site-packages/sklearn/utils/validation.py\u001b[0m in \u001b[0;36minner_f\u001b[0;34m(*args, **kwargs)\u001b[0m\n\u001b[1;32m     61\u001b[0m             \u001b[0mextra_args\u001b[0m \u001b[0;34m=\u001b[0m \u001b[0mlen\u001b[0m\u001b[0;34m(\u001b[0m\u001b[0margs\u001b[0m\u001b[0;34m)\u001b[0m \u001b[0;34m-\u001b[0m \u001b[0mlen\u001b[0m\u001b[0;34m(\u001b[0m\u001b[0mall_args\u001b[0m\u001b[0;34m)\u001b[0m\u001b[0;34m\u001b[0m\u001b[0;34m\u001b[0m\u001b[0m\n\u001b[1;32m     62\u001b[0m             \u001b[0;32mif\u001b[0m \u001b[0mextra_args\u001b[0m \u001b[0;34m<=\u001b[0m \u001b[0;36m0\u001b[0m\u001b[0;34m:\u001b[0m\u001b[0;34m\u001b[0m\u001b[0;34m\u001b[0m\u001b[0m\n\u001b[0;32m---> 63\u001b[0;31m                 \u001b[0;32mreturn\u001b[0m \u001b[0mf\u001b[0m\u001b[0;34m(\u001b[0m\u001b[0;34m*\u001b[0m\u001b[0margs\u001b[0m\u001b[0;34m,\u001b[0m \u001b[0;34m**\u001b[0m\u001b[0mkwargs\u001b[0m\u001b[0;34m)\u001b[0m\u001b[0;34m\u001b[0m\u001b[0;34m\u001b[0m\u001b[0m\n\u001b[0m\u001b[1;32m     64\u001b[0m \u001b[0;34m\u001b[0m\u001b[0m\n\u001b[1;32m     65\u001b[0m             \u001b[0;31m# extra_args > 0\u001b[0m\u001b[0;34m\u001b[0m\u001b[0;34m\u001b[0m\u001b[0;34m\u001b[0m\u001b[0m\n",
      "\u001b[0;32m/opt/anaconda3/lib/python3.8/site-packages/sklearn/metrics/_classification.py\u001b[0m in \u001b[0;36mclassification_report\u001b[0;34m(y_true, y_pred, labels, target_names, sample_weight, digits, output_dict, zero_division)\u001b[0m\n\u001b[1;32m   1968\u001b[0m     \"\"\"\n\u001b[1;32m   1969\u001b[0m \u001b[0;34m\u001b[0m\u001b[0m\n\u001b[0;32m-> 1970\u001b[0;31m     \u001b[0my_type\u001b[0m\u001b[0;34m,\u001b[0m \u001b[0my_true\u001b[0m\u001b[0;34m,\u001b[0m \u001b[0my_pred\u001b[0m \u001b[0;34m=\u001b[0m \u001b[0m_check_targets\u001b[0m\u001b[0;34m(\u001b[0m\u001b[0my_true\u001b[0m\u001b[0;34m,\u001b[0m \u001b[0my_pred\u001b[0m\u001b[0;34m)\u001b[0m\u001b[0;34m\u001b[0m\u001b[0;34m\u001b[0m\u001b[0m\n\u001b[0m\u001b[1;32m   1971\u001b[0m \u001b[0;34m\u001b[0m\u001b[0m\n\u001b[1;32m   1972\u001b[0m     \u001b[0;32mif\u001b[0m \u001b[0mlabels\u001b[0m \u001b[0;32mis\u001b[0m \u001b[0;32mNone\u001b[0m\u001b[0;34m:\u001b[0m\u001b[0;34m\u001b[0m\u001b[0;34m\u001b[0m\u001b[0m\n",
      "\u001b[0;32m/opt/anaconda3/lib/python3.8/site-packages/sklearn/metrics/_classification.py\u001b[0m in \u001b[0;36m_check_targets\u001b[0;34m(y_true, y_pred)\u001b[0m\n\u001b[1;32m     98\u001b[0m     \u001b[0;31m# No metrics support \"multiclass-multioutput\" format\u001b[0m\u001b[0;34m\u001b[0m\u001b[0;34m\u001b[0m\u001b[0;34m\u001b[0m\u001b[0m\n\u001b[1;32m     99\u001b[0m     \u001b[0;32mif\u001b[0m \u001b[0;34m(\u001b[0m\u001b[0my_type\u001b[0m \u001b[0;32mnot\u001b[0m \u001b[0;32min\u001b[0m \u001b[0;34m[\u001b[0m\u001b[0;34m\"binary\"\u001b[0m\u001b[0;34m,\u001b[0m \u001b[0;34m\"multiclass\"\u001b[0m\u001b[0;34m,\u001b[0m \u001b[0;34m\"multilabel-indicator\"\u001b[0m\u001b[0;34m]\u001b[0m\u001b[0;34m)\u001b[0m\u001b[0;34m:\u001b[0m\u001b[0;34m\u001b[0m\u001b[0;34m\u001b[0m\u001b[0m\n\u001b[0;32m--> 100\u001b[0;31m         \u001b[0;32mraise\u001b[0m \u001b[0mValueError\u001b[0m\u001b[0;34m(\u001b[0m\u001b[0;34m\"{0} is not supported\"\u001b[0m\u001b[0;34m.\u001b[0m\u001b[0mformat\u001b[0m\u001b[0;34m(\u001b[0m\u001b[0my_type\u001b[0m\u001b[0;34m)\u001b[0m\u001b[0;34m)\u001b[0m\u001b[0;34m\u001b[0m\u001b[0;34m\u001b[0m\u001b[0m\n\u001b[0m\u001b[1;32m    101\u001b[0m \u001b[0;34m\u001b[0m\u001b[0m\n\u001b[1;32m    102\u001b[0m     \u001b[0;32mif\u001b[0m \u001b[0my_type\u001b[0m \u001b[0;32min\u001b[0m \u001b[0;34m[\u001b[0m\u001b[0;34m\"binary\"\u001b[0m\u001b[0;34m,\u001b[0m \u001b[0;34m\"multiclass\"\u001b[0m\u001b[0;34m]\u001b[0m\u001b[0;34m:\u001b[0m\u001b[0;34m\u001b[0m\u001b[0;34m\u001b[0m\u001b[0m\n",
      "\u001b[0;31mValueError\u001b[0m: unknown is not supported"
     ]
    }
   ],
   "source": [
    "print(classification_report(y, \n",
    "                            predictions))"
   ]
  },
  {
   "cell_type": "code",
   "execution_count": null,
   "id": "1458b55c",
   "metadata": {},
   "outputs": [],
   "source": []
  },
  {
   "cell_type": "markdown",
   "id": "a81015c9",
   "metadata": {},
   "source": [
    "## THEN STEP 5) FINISH TWEAKING PRE-PROCESSING & RE-ITERATE"
   ]
  },
  {
   "cell_type": "markdown",
   "id": "beab8755",
   "metadata": {},
   "source": [
    "#### (e.g. USE GAUSSIAN BLUR?  WHICH DE-NOISING, AND AFTER vs BEFORE, IMAGE SEGMENTATION, etc.)"
   ]
  },
  {
   "cell_type": "code",
   "execution_count": null,
   "id": "83cade08",
   "metadata": {},
   "outputs": [],
   "source": []
  }
 ],
 "metadata": {
  "kernelspec": {
   "display_name": "Python 3",
   "language": "python",
   "name": "python3"
  },
  "language_info": {
   "codemirror_mode": {
    "name": "ipython",
    "version": 3
   },
   "file_extension": ".py",
   "mimetype": "text/x-python",
   "name": "python",
   "nbconvert_exporter": "python",
   "pygments_lexer": "ipython3",
   "version": "3.8.8"
  }
 },
 "nbformat": 4,
 "nbformat_minor": 5
}
