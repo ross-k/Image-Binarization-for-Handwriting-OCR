{
 "cells": [
  {
   "cell_type": "markdown",
   "id": "5796e553",
   "metadata": {},
   "source": [
    "## IMAGE BINARIZATION FOR HANDWRITING OCR\n",
    "\n",
    "v4 USING f1 SCORE - Ross Kimberlin - 6/9/2022\n",
    "\n",
    "(SEE https://github.com/ross-k/Image-Binarization-for-Handwriting-OCR/tree/ross-test/notebooks)"
   ]
  },
  {
   "cell_type": "code",
   "execution_count": 1,
   "id": "2eef831d",
   "metadata": {},
   "outputs": [],
   "source": [
    "import cv2\n",
    "import glob\n",
    "import imageio as imi\n",
    "import matplotlib.pyplot as plt\n",
    "import numpy as np\n",
    "import os\n",
    "import pandas as pd\n",
    "from scipy import misc, ndimage\n",
    "from scipy import misc, ndimage\n",
    "from sklearn.metrics import accuracy_score, f1_score\n",
    "#    classification_report, confusion_matrix, \n",
    "from sklearn.model_selection import train_test_split\n",
    "from sklearn.preprocessing import LabelEncoder\n",
    "import tensorflow as tf\n",
    "\n",
    "%matplotlib inline"
   ]
  },
  {
   "cell_type": "markdown",
   "id": "a3dc88e6",
   "metadata": {},
   "source": [
    "## STEP 1) READ IMAGES INTO PYTHON AND INSPECT"
   ]
  },
  {
   "cell_type": "markdown",
   "id": "4322ff2a",
   "metadata": {},
   "source": [
    "### H-DIBCO DATA SET"
   ]
  },
  {
   "cell_type": "code",
   "execution_count": 20,
   "id": "45947f88",
   "metadata": {},
   "outputs": [],
   "source": [
    "read_dir_DIBCO_2016_GT = '../data/H-DIBCO_data/DIBCO/2016/DIPCO2016_Dataset_GT/'"
   ]
  },
  {
   "cell_type": "code",
   "execution_count": 21,
   "id": "b080cac5",
   "metadata": {},
   "outputs": [],
   "source": [
    "read_dir_DIBCO_2016    = '../data/H-DIBCO_data/DIBCO/2016/DIPCO2016_dataset/'"
   ]
  },
  {
   "cell_type": "code",
   "execution_count": 22,
   "id": "24b0cc44",
   "metadata": {},
   "outputs": [],
   "source": [
    "DIBCO_2016_GT   = []\n",
    "DIBCO_2016_orig = []\n",
    "\n",
    "for file in sorted(glob.glob(read_dir_DIBCO_2016_GT + '*.bmp'),\n",
    "       key = lambda x: int((x.split('GT/')[1]).split('_gt')[0])):\n",
    "\n",
    "    # CHANGING TO GRAYSCALE\n",
    "    DIBCO_2016_GT.append(cv2.imread(file,\n",
    "                                    cv2.IMREAD_GRAYSCALE))\n",
    "    \n",
    "for file in sorted(glob.glob(read_dir_DIBCO_2016 + '*.bmp'),\n",
    "       key = lambda x: int((x.split('_dataset/')[1]).split('.bmp')[0])):\n",
    "\n",
    "    # CHANGING TO GRAYSCALE\n",
    "    DIBCO_2016_orig.append(cv2.imread(file,\n",
    "                                      cv2.IMREAD_GRAYSCALE))"
   ]
  },
  {
   "cell_type": "code",
   "execution_count": 23,
   "id": "e1f662ba",
   "metadata": {},
   "outputs": [
    {
     "data": {
      "text/plain": [
       "['../data/H-DIBCO_data/DIBCO/2016/DIPCO2016_Dataset_GT/1_gt.bmp',\n",
       " '../data/H-DIBCO_data/DIBCO/2016/DIPCO2016_Dataset_GT/2_gt.bmp',\n",
       " '../data/H-DIBCO_data/DIBCO/2016/DIPCO2016_Dataset_GT/3_gt.bmp',\n",
       " '../data/H-DIBCO_data/DIBCO/2016/DIPCO2016_Dataset_GT/4_gt.bmp',\n",
       " '../data/H-DIBCO_data/DIBCO/2016/DIPCO2016_Dataset_GT/5_gt.bmp',\n",
       " '../data/H-DIBCO_data/DIBCO/2016/DIPCO2016_Dataset_GT/6_gt.bmp',\n",
       " '../data/H-DIBCO_data/DIBCO/2016/DIPCO2016_Dataset_GT/7_gt.bmp',\n",
       " '../data/H-DIBCO_data/DIBCO/2016/DIPCO2016_Dataset_GT/8_gt.bmp',\n",
       " '../data/H-DIBCO_data/DIBCO/2016/DIPCO2016_Dataset_GT/9_gt.bmp',\n",
       " '../data/H-DIBCO_data/DIBCO/2016/DIPCO2016_Dataset_GT/10_gt.bmp']"
      ]
     },
     "execution_count": 23,
     "metadata": {},
     "output_type": "execute_result"
    }
   ],
   "source": [
    "sorted(glob.glob(read_dir_DIBCO_2016_GT + '*.bmp'),\n",
    "       key = lambda x: int((x.split('GT/')[1]).split('_gt')[0]))"
   ]
  },
  {
   "cell_type": "code",
   "execution_count": 24,
   "id": "9adce6ab",
   "metadata": {},
   "outputs": [
    {
     "data": {
      "text/plain": [
       "['../data/H-DIBCO_data/DIBCO/2016/DIPCO2016_dataset/1.bmp',\n",
       " '../data/H-DIBCO_data/DIBCO/2016/DIPCO2016_dataset/2.bmp',\n",
       " '../data/H-DIBCO_data/DIBCO/2016/DIPCO2016_dataset/3.bmp',\n",
       " '../data/H-DIBCO_data/DIBCO/2016/DIPCO2016_dataset/4.bmp',\n",
       " '../data/H-DIBCO_data/DIBCO/2016/DIPCO2016_dataset/5.bmp',\n",
       " '../data/H-DIBCO_data/DIBCO/2016/DIPCO2016_dataset/6.bmp',\n",
       " '../data/H-DIBCO_data/DIBCO/2016/DIPCO2016_dataset/7.bmp',\n",
       " '../data/H-DIBCO_data/DIBCO/2016/DIPCO2016_dataset/8.bmp',\n",
       " '../data/H-DIBCO_data/DIBCO/2016/DIPCO2016_dataset/9.bmp',\n",
       " '../data/H-DIBCO_data/DIBCO/2016/DIPCO2016_dataset/10.bmp']"
      ]
     },
     "execution_count": 24,
     "metadata": {},
     "output_type": "execute_result"
    }
   ],
   "source": [
    "sorted(glob.glob(read_dir_DIBCO_2016 + '*.bmp'),\n",
    "       key = lambda x: int((x.split('_dataset/')[1]).split('.bmp')[0]))"
   ]
  },
  {
   "cell_type": "code",
   "execution_count": null,
   "id": "c6126953",
   "metadata": {},
   "outputs": [],
   "source": []
  },
  {
   "cell_type": "markdown",
   "id": "eaf6a5a7",
   "metadata": {},
   "source": [
    "## STEP 2) TRAINING"
   ]
  },
  {
   "cell_type": "markdown",
   "id": "1949bdb4",
   "metadata": {},
   "source": [
    "#### USING DIBCO DATA FIRST"
   ]
  },
  {
   "cell_type": "code",
   "execution_count": 25,
   "id": "a69a5f91",
   "metadata": {},
   "outputs": [],
   "source": [
    "X_train_D, X_test_D, y_train_D, y_test_D = train_test_split(DIBCO_2016_orig,\n",
    "                                                            DIBCO_2016_GT,\n",
    "                                                            train_size = 0.75,\n",
    "                                                            test_size = 0.25,\n",
    "                                                            random_state = 321)"
   ]
  },
  {
   "cell_type": "markdown",
   "id": "b69a3f38",
   "metadata": {},
   "source": [
    "#### MICHAEL SAYS THAT AN f1 SCORE WILL WORK BETTER WHEN THERE ARE MORE BACKGROUND THAN FOREGROUND PIXELS, AND THAT GALLEGO & CALVO-ZARAGOZA SAY THAT A LARGER WINDOW SIZE SEEMS TO PRODUCE A BETTER f1 SCORE."
   ]
  },
  {
   "cell_type": "code",
   "execution_count": 26,
   "id": "e799baf0",
   "metadata": {},
   "outputs": [],
   "source": [
    "def f1_score_D(thresh):\n",
    "   \n",
    "    f1_DIBCO = []\n",
    "\n",
    "    for ground_truth, original in zip(y_train_D, X_train_D):\n",
    "        \n",
    "        # KEEPS THE SECOND ELEMENT OF A TUPLE\n",
    "        _, predicted = cv2.threshold(original,\n",
    "                                     thresh, 255, \n",
    "                                     cv2.THRESH_BINARY)\n",
    "        \n",
    "        # COMPUTE ACCURACY SCORES ACROSS TRAINING DATA\n",
    "        f1_DIBCO.append(accuracy_score(ground_truth.flatten(),\n",
    "                                       predicted.flatten()))\n",
    "    \n",
    "    # AVERAGE ACCURACY SCORES\n",
    "    return np.mean(f1_DIBCO) "
   ]
  },
  {
   "cell_type": "code",
   "execution_count": 27,
   "id": "af675f66",
   "metadata": {},
   "outputs": [
    {
     "data": {
      "text/plain": [
       "0.9455660141669453"
      ]
     },
     "execution_count": 27,
     "metadata": {},
     "output_type": "execute_result"
    }
   ],
   "source": [
    "f1_score_D(160)"
   ]
  },
  {
   "cell_type": "code",
   "execution_count": 28,
   "id": "9bb96805",
   "metadata": {},
   "outputs": [],
   "source": [
    "f1_cont_D = []\n",
    "\n",
    "for thresh in range(0, 255):\n",
    "    \n",
    "    f1_cont_D.append(f1_score_D(thresh))"
   ]
  },
  {
   "cell_type": "code",
   "execution_count": 29,
   "id": "c85be48f",
   "metadata": {},
   "outputs": [
    {
     "data": {
      "text/plain": [
       "0.9719764300186599"
      ]
     },
     "execution_count": 29,
     "metadata": {},
     "output_type": "execute_result"
    }
   ],
   "source": [
    "np.asarray(f1_cont_D).max()"
   ]
  },
  {
   "cell_type": "code",
   "execution_count": 30,
   "id": "57fcfac7",
   "metadata": {},
   "outputs": [
    {
     "data": {
      "text/plain": [
       "121"
      ]
     },
     "execution_count": 30,
     "metadata": {},
     "output_type": "execute_result"
    }
   ],
   "source": [
    "np.asarray(f1_cont_D).argmax()"
   ]
  },
  {
   "cell_type": "code",
   "execution_count": 31,
   "id": "e4ea6bbd",
   "metadata": {},
   "outputs": [
    {
     "data": {
      "image/png": "[encoded data removed]",
      "text/plain": [
       "<Figure size 432x288 with 1 Axes>"
      ]
     },
     "metadata": {
      "needs_background": "light"
     },
     "output_type": "display_data"
    }
   ],
   "source": [
    "plt.plot(f1_cont_D);"
   ]
  },
  {
   "cell_type": "code",
   "execution_count": null,
   "id": "460d8971",
   "metadata": {},
   "outputs": [],
   "source": []
  },
  {
   "cell_type": "markdown",
   "id": "b421ae9e",
   "metadata": {},
   "source": [
    "### TO DO - CREATE FUNCTION TO ALTER ARRAYS\n",
    "\n",
    "-- SEE GALLEGO, utilDataGenerator.py - https://github.com/ajgallego/document-image-binarization/blob/master/binarize/utilDataGenerator.py"
   ]
  },
  {
   "cell_type": "code",
   "execution_count": 14,
   "id": "008b58c2",
   "metadata": {},
   "outputs": [],
   "source": [
    "# img = DIBCO_orig # [0]\n",
    "# img"
   ]
  },
  {
   "cell_type": "code",
   "execution_count": 32,
   "id": "d85ab127",
   "metadata": {},
   "outputs": [],
   "source": [
    "window_size = 64"
   ]
  },
  {
   "cell_type": "code",
   "execution_count": 17,
   "id": "175efbe2",
   "metadata": {},
   "outputs": [],
   "source": [
    "# img[0:window_size, \n",
    "#     0:window_size ]"
   ]
  },
  {
   "cell_type": "code",
   "execution_count": null,
   "id": "bdf5ab36",
   "metadata": {},
   "outputs": [],
   "source": [
    "# img[0:window_size, \n",
    "#     0:window_size ].shape"
   ]
  },
  {
   "cell_type": "code",
   "execution_count": null,
   "id": "1aa05b23",
   "metadata": {},
   "outputs": [],
   "source": [
    "# plt.imshow(img[0:window_size, \n",
    "#                0:window_size, ]);"
   ]
  },
  {
   "cell_type": "code",
   "execution_count": null,
   "id": "c6db5d89",
   "metadata": {},
   "outputs": [],
   "source": [
    "# img.shape"
   ]
  },
  {
   "cell_type": "code",
   "execution_count": 33,
   "id": "51fb4fee",
   "metadata": {},
   "outputs": [],
   "source": [
    "def arr_div(img):\n",
    "\n",
    "    cont = []\n",
    "    \n",
    "    idx_row_start_n = 0\n",
    "    idx_col_start_n = 0\n",
    "    \n",
    "    im_size = img.shape\n",
    "    \n",
    "    # // GIVES YOU INTEGER DIVISION\n",
    "    n_windows_tall = im_size[0] // window_size\n",
    "    n_windows_wide = im_size[1] // window_size\n",
    "    \n",
    "    for idx_row_start_n in range(n_windows_tall):\n",
    "    \n",
    "        for idx_col_start_n in range(n_windows_wide):\n",
    "            \n",
    "            window = img[window_size * idx_row_start_n: \\\n",
    "                             window_size * (idx_row_start_n + 1), \n",
    "                         window_size * idx_col_start_n: \\\n",
    "                             window_size * (idx_col_start_n + 1)]\n",
    "    \n",
    "            window = np.divide(window, 255)\n",
    "        \n",
    "            cont.append(window)\n",
    "    \n",
    "    return cont"
   ]
  },
  {
   "cell_type": "code",
   "execution_count": 34,
   "id": "ea0ed848",
   "metadata": {},
   "outputs": [],
   "source": [
    "X = []\n",
    "\n",
    "for img in DIBCO_2016_orig:\n",
    "    \n",
    "    # extend CREATES ONE LONG LIST INSTEAD OF SEVERAL LISTS\n",
    "    X.extend(arr_div(img))"
   ]
  },
  {
   "cell_type": "code",
   "execution_count": 35,
   "id": "0093b6be",
   "metadata": {},
   "outputs": [],
   "source": [
    "X = np.array(X)"
   ]
  },
  {
   "cell_type": "code",
   "execution_count": 36,
   "id": "e20cd938",
   "metadata": {},
   "outputs": [],
   "source": [
    "y = []\n",
    "\n",
    "for img in DIBCO_2016_GT:\n",
    "    \n",
    "    # CREATES ONE LONG LIST INSTEAD OF SEVERAL LISTS\n",
    "    y.extend(arr_div(img))"
   ]
  },
  {
   "cell_type": "code",
   "execution_count": 37,
   "id": "7b1ff588",
   "metadata": {},
   "outputs": [],
   "source": [
    "y = np.array(y)"
   ]
  },
  {
   "cell_type": "code",
   "execution_count": 38,
   "id": "df5c793e",
   "metadata": {},
   "outputs": [],
   "source": [
    "window = arr_div(img)"
   ]
  },
  {
   "cell_type": "code",
   "execution_count": 39,
   "id": "35f8a8ff",
   "metadata": {},
   "outputs": [
    {
     "data": {
      "text/plain": [
       "[array([[1., 1., 1., ..., 1., 1., 1.],\n",
       "        [1., 1., 1., ..., 1., 1., 1.],\n",
       "        [1., 1., 1., ..., 1., 1., 1.],\n",
       "        ...,\n",
       "        [1., 1., 1., ..., 1., 1., 1.],\n",
       "        [1., 1., 1., ..., 1., 1., 1.],\n",
       "        [1., 1., 1., ..., 1., 1., 1.]]),\n",
       " array([[1., 1., 1., ..., 1., 1., 1.],\n",
       "        [1., 1., 1., ..., 1., 1., 1.],\n",
       "        [1., 1., 1., ..., 1., 1., 1.],\n",
       "        ...,\n",
       "        [1., 1., 1., ..., 1., 1., 1.],\n",
       "        [1., 1., 1., ..., 1., 1., 1.],\n",
       "        [1., 1., 1., ..., 1., 1., 1.]]),\n",
       " array([[1., 1., 1., ..., 1., 1., 1.],\n",
       "        [1., 1., 1., ..., 1., 1., 1.],\n",
       "        [1., 1., 1., ..., 1., 1., 1.],\n",
       "        ...,\n",
       "        [1., 1., 1., ..., 1., 1., 1.],\n",
       "        [1., 1., 1., ..., 1., 1., 1.],\n",
       "        [1., 1., 1., ..., 1., 1., 1.]]),\n",
       " array([[1., 1., 1., ..., 1., 1., 1.],\n",
       "        [1., 1., 1., ..., 1., 1., 1.],\n",
       "        [1., 1., 1., ..., 1., 1., 1.],\n",
       "        ...,\n",
       "        [1., 1., 1., ..., 1., 1., 1.],\n",
       "        [1., 1., 1., ..., 1., 1., 1.],\n",
       "        [1., 1., 1., ..., 1., 1., 1.]]),\n",
       " array([[1., 1., 1., ..., 1., 1., 1.],\n",
       "        [1., 1., 1., ..., 1., 1., 1.],\n",
       "        [1., 1., 1., ..., 1., 1., 1.],\n",
       "        ...,\n",
       "        [1., 1., 1., ..., 1., 1., 1.],\n",
       "        [1., 1., 1., ..., 1., 1., 1.],\n",
       "        [1., 1., 1., ..., 1., 1., 1.]]),\n",
       " array([[1., 1., 1., ..., 1., 1., 1.],\n",
       "        [1., 1., 1., ..., 1., 1., 1.],\n",
       "        [1., 1., 1., ..., 1., 1., 1.],\n",
       "        ...,\n",
       "        [1., 1., 1., ..., 1., 1., 1.],\n",
       "        [1., 1., 1., ..., 1., 1., 1.],\n",
       "        [1., 1., 1., ..., 1., 1., 1.]]),\n",
       " array([[1., 1., 1., ..., 1., 1., 1.],\n",
       "        [1., 1., 1., ..., 1., 1., 1.],\n",
       "        [1., 1., 1., ..., 1., 1., 1.],\n",
       "        ...,\n",
       "        [1., 1., 1., ..., 1., 1., 1.],\n",
       "        [1., 1., 1., ..., 1., 1., 1.],\n",
       "        [1., 1., 1., ..., 1., 1., 1.]]),\n",
       " array([[1., 1., 1., ..., 1., 1., 1.],\n",
       "        [1., 1., 1., ..., 1., 1., 1.],\n",
       "        [1., 1., 1., ..., 1., 1., 1.],\n",
       "        ...,\n",
       "        [1., 1., 1., ..., 1., 1., 1.],\n",
       "        [1., 1., 1., ..., 1., 1., 1.],\n",
       "        [1., 1., 1., ..., 1., 1., 1.]]),\n",
       " array([[1., 1., 1., ..., 1., 1., 1.],\n",
       "        [1., 1., 1., ..., 1., 1., 1.],\n",
       "        [1., 1., 1., ..., 1., 1., 1.],\n",
       "        ...,\n",
       "        [1., 1., 0., ..., 1., 1., 1.],\n",
       "        [1., 1., 0., ..., 1., 1., 1.],\n",
       "        [1., 0., 0., ..., 1., 1., 1.]]),\n",
       " array([[1., 1., 1., ..., 1., 1., 1.],\n",
       "        [1., 1., 1., ..., 1., 1., 1.],\n",
       "        [1., 1., 1., ..., 1., 1., 1.],\n",
       "        ...,\n",
       "        [1., 1., 1., ..., 1., 1., 1.],\n",
       "        [1., 1., 1., ..., 1., 1., 1.],\n",
       "        [1., 1., 1., ..., 1., 1., 1.]]),\n",
       " array([[1., 1., 1., ..., 1., 1., 1.],\n",
       "        [1., 1., 1., ..., 1., 1., 1.],\n",
       "        [1., 1., 1., ..., 1., 1., 1.],\n",
       "        ...,\n",
       "        [1., 1., 1., ..., 1., 1., 1.],\n",
       "        [1., 1., 1., ..., 1., 1., 0.],\n",
       "        [1., 1., 1., ..., 0., 0., 1.]]),\n",
       " array([[1., 1., 1., ..., 1., 1., 1.],\n",
       "        [1., 1., 1., ..., 1., 1., 1.],\n",
       "        [1., 1., 1., ..., 1., 1., 1.],\n",
       "        ...,\n",
       "        [1., 0., 0., ..., 1., 1., 1.],\n",
       "        [0., 0., 0., ..., 1., 1., 1.],\n",
       "        [0., 0., 0., ..., 1., 1., 1.]]),\n",
       " array([[1., 1., 0., ..., 1., 1., 1.],\n",
       "        [1., 0., 0., ..., 1., 1., 1.],\n",
       "        [1., 0., 0., ..., 1., 1., 0.],\n",
       "        ...,\n",
       "        [1., 1., 1., ..., 1., 1., 1.],\n",
       "        [1., 1., 1., ..., 1., 1., 1.],\n",
       "        [1., 1., 1., ..., 1., 1., 1.]]),\n",
       " array([[0., 0., 0., ..., 1., 1., 1.],\n",
       "        [0., 0., 0., ..., 1., 1., 1.],\n",
       "        [0., 0., 1., ..., 1., 1., 1.],\n",
       "        ...,\n",
       "        [1., 1., 1., ..., 0., 0., 0.],\n",
       "        [1., 1., 1., ..., 0., 0., 0.],\n",
       "        [1., 1., 1., ..., 0., 1., 1.]]),\n",
       " array([[1., 1., 1., ..., 1., 1., 1.],\n",
       "        [1., 1., 1., ..., 1., 1., 1.],\n",
       "        [1., 1., 1., ..., 1., 1., 1.],\n",
       "        ...,\n",
       "        [1., 1., 1., ..., 1., 1., 1.],\n",
       "        [1., 1., 1., ..., 1., 1., 1.],\n",
       "        [1., 1., 1., ..., 1., 1., 1.]]),\n",
       " array([[1., 1., 1., ..., 1., 1., 1.],\n",
       "        [1., 1., 1., ..., 1., 1., 1.],\n",
       "        [1., 1., 1., ..., 1., 1., 1.],\n",
       "        ...,\n",
       "        [0., 0., 0., ..., 1., 1., 1.],\n",
       "        [0., 1., 1., ..., 1., 1., 1.],\n",
       "        [1., 1., 1., ..., 1., 1., 1.]]),\n",
       " array([[1., 0., 0., ..., 1., 1., 1.],\n",
       "        [1., 0., 0., ..., 1., 1., 1.],\n",
       "        [1., 0., 0., ..., 1., 1., 1.],\n",
       "        ...,\n",
       "        [1., 1., 1., ..., 1., 1., 1.],\n",
       "        [1., 1., 1., ..., 1., 1., 1.],\n",
       "        [1., 1., 1., ..., 1., 1., 1.]]),\n",
       " array([[1., 1., 1., ..., 1., 1., 1.],\n",
       "        [1., 1., 1., ..., 1., 1., 1.],\n",
       "        [1., 1., 1., ..., 1., 1., 1.],\n",
       "        ...,\n",
       "        [1., 1., 1., ..., 1., 1., 1.],\n",
       "        [1., 1., 1., ..., 1., 1., 1.],\n",
       "        [1., 1., 1., ..., 1., 1., 1.]]),\n",
       " array([[1., 1., 1., ..., 0., 1., 1.],\n",
       "        [1., 1., 1., ..., 1., 1., 1.],\n",
       "        [1., 1., 1., ..., 1., 1., 1.],\n",
       "        ...,\n",
       "        [1., 1., 1., ..., 1., 1., 1.],\n",
       "        [1., 1., 1., ..., 1., 1., 1.],\n",
       "        [1., 1., 1., ..., 1., 1., 1.]]),\n",
       " array([[1., 1., 1., ..., 1., 1., 1.],\n",
       "        [1., 1., 1., ..., 1., 1., 1.],\n",
       "        [1., 1., 1., ..., 1., 1., 1.],\n",
       "        ...,\n",
       "        [1., 1., 1., ..., 1., 1., 1.],\n",
       "        [1., 1., 1., ..., 1., 1., 1.],\n",
       "        [1., 1., 1., ..., 1., 1., 1.]])]"
      ]
     },
     "execution_count": 39,
     "metadata": {},
     "output_type": "execute_result"
    }
   ],
   "source": [
    "window"
   ]
  },
  {
   "cell_type": "code",
   "execution_count": null,
   "id": "bb64c45b",
   "metadata": {},
   "outputs": [],
   "source": [
    "# img_GT = DIBCO_GT[0]"
   ]
  },
  {
   "cell_type": "code",
   "execution_count": 26,
   "id": "675b6ba1",
   "metadata": {},
   "outputs": [],
   "source": [
    "# arr_div(img_GT)"
   ]
  },
  {
   "cell_type": "code",
   "execution_count": 40,
   "id": "ec2b6ac5",
   "metadata": {},
   "outputs": [
    {
     "data": {
      "text/plain": [
       "2979"
      ]
     },
     "execution_count": 40,
     "metadata": {},
     "output_type": "execute_result"
    }
   ],
   "source": [
    "len(X)"
   ]
  },
  {
   "cell_type": "code",
   "execution_count": 41,
   "id": "6aba9b66",
   "metadata": {},
   "outputs": [
    {
     "data": {
      "text/plain": [
       "(64, 64)"
      ]
     },
     "execution_count": 41,
     "metadata": {},
     "output_type": "execute_result"
    }
   ],
   "source": [
    "X[0].shape"
   ]
  },
  {
   "cell_type": "code",
   "execution_count": null,
   "id": "032644a7",
   "metadata": {},
   "outputs": [],
   "source": []
  },
  {
   "cell_type": "markdown",
   "id": "d0e24f94",
   "metadata": {},
   "source": [
    "### STEP 3) KERAS MODEL - THE MOMENT YOU HAVE BEEN WAITING FOR"
   ]
  },
  {
   "cell_type": "markdown",
   "id": "1a5c3c26",
   "metadata": {},
   "source": [
    "#### OUR FIRST ATTEMPT IS GOING TO THREE NETWORK LAYERS."
   ]
  },
  {
   "cell_type": "code",
   "execution_count": 42,
   "id": "19cdefc0",
   "metadata": {},
   "outputs": [
    {
     "name": "stdout",
     "output_type": "stream",
     "text": [
      "Model: \"sequential_1\"\n",
      "_________________________________________________________________\n",
      " Layer (type)                Output Shape              Param #   \n",
      "=================================================================\n",
      " conv2d_4 (Conv2D)           (None, 64, 64, 32)        320       \n",
      "                                                                 \n",
      " batch_normalization_6 (Batc  (None, 64, 64, 32)       256       \n",
      " hNormalization)                                                 \n",
      "                                                                 \n",
      " activation_6 (Activation)   (None, 64, 64, 32)        0         \n",
      "                                                                 \n",
      " conv2d_5 (Conv2D)           (None, 64, 64, 32)        9248      \n",
      "                                                                 \n",
      " batch_normalization_7 (Batc  (None, 64, 64, 32)       256       \n",
      " hNormalization)                                                 \n",
      "                                                                 \n",
      " activation_7 (Activation)   (None, 64, 64, 32)        0         \n",
      "                                                                 \n",
      " conv2d_6 (Conv2D)           (None, 64, 64, 32)        9248      \n",
      "                                                                 \n",
      " batch_normalization_8 (Batc  (None, 64, 64, 32)       256       \n",
      " hNormalization)                                                 \n",
      "                                                                 \n",
      " activation_8 (Activation)   (None, 64, 64, 32)        0         \n",
      "                                                                 \n",
      " conv2d_transpose_3 (Conv2DT  (None, 64, 64, 32)       9248      \n",
      " ranspose)                                                       \n",
      "                                                                 \n",
      " batch_normalization_9 (Batc  (None, 64, 64, 32)       256       \n",
      " hNormalization)                                                 \n",
      "                                                                 \n",
      " activation_9 (Activation)   (None, 64, 64, 32)        0         \n",
      "                                                                 \n",
      " conv2d_transpose_4 (Conv2DT  (None, 64, 64, 32)       9248      \n",
      " ranspose)                                                       \n",
      "                                                                 \n",
      " batch_normalization_10 (Bat  (None, 64, 64, 32)       256       \n",
      " chNormalization)                                                \n",
      "                                                                 \n",
      " activation_10 (Activation)  (None, 64, 64, 32)        0         \n",
      "                                                                 \n",
      " conv2d_transpose_5 (Conv2DT  (None, 64, 64, 32)       9248      \n",
      " ranspose)                                                       \n",
      "                                                                 \n",
      " batch_normalization_11 (Bat  (None, 64, 64, 32)       256       \n",
      " chNormalization)                                                \n",
      "                                                                 \n",
      " activation_11 (Activation)  (None, 64, 64, 32)        0         \n",
      "                                                                 \n",
      " conv2d_7 (Conv2D)           (None, 64, 64, 1)         289       \n",
      "                                                                 \n",
      "=================================================================\n",
      "Total params: 48,385\n",
      "Trainable params: 47,617\n",
      "Non-trainable params: 768\n",
      "_________________________________________________________________\n"
     ]
    }
   ],
   "source": [
    "model = tf.keras.Sequential(\n",
    "    [\n",
    "        tf.keras.Input(shape = (window_size, window_size, 1)),\n",
    "        tf.keras.layers.Conv2D(32, \n",
    "                               kernel_size=(3, 3),\n",
    "                               strides = 1,\n",
    "                               padding = 'same'),\n",
    "        tf.keras.layers.BatchNormalization(axis = 1),\n",
    "        tf.keras.layers.Activation('relu'),\n",
    "        tf.keras.layers.Conv2D(32, \n",
    "                               kernel_size=(3, 3),\n",
    "                               strides = 1,\n",
    "                               padding = 'same'),\n",
    "        tf.keras.layers.BatchNormalization(axis = 1),\n",
    "        tf.keras.layers.Activation('relu'),\n",
    "        tf.keras.layers.Conv2D(32, \n",
    "                               kernel_size=(3, 3),\n",
    "                               strides = 1,\n",
    "                               padding = 'same'),                       \n",
    "        tf.keras.layers.BatchNormalization(axis = 1),\n",
    "        tf.keras.layers.Activation('relu'),      \n",
    "        tf.keras.layers.Conv2DTranspose(32, \n",
    "                               kernel_size=(3, 3),\n",
    "                               strides = 1,\n",
    "                               padding = 'same'),\n",
    "        tf.keras.layers.BatchNormalization(axis = 1),\n",
    "        tf.keras.layers.Activation('relu'),                       \n",
    "        tf.keras.layers.Conv2DTranspose(32, \n",
    "                               kernel_size=(3, 3),\n",
    "                               strides = 1,\n",
    "                               padding = 'same'),\n",
    "        tf.keras.layers.BatchNormalization(axis = 1),\n",
    "        tf.keras.layers.Activation('relu'), \n",
    "        tf.keras.layers.Conv2DTranspose(32, \n",
    "                               kernel_size=(3, 3),\n",
    "                               strides = 1,\n",
    "                               padding = 'same'),\n",
    "        tf.keras.layers.BatchNormalization(axis = 1),\n",
    "        tf.keras.layers.Activation('relu'), \n",
    "        tf.keras.layers.Conv2D(1, \n",
    "                               kernel_size=(3, 3), \n",
    "                               strides=1, \n",
    "                               padding='same', \n",
    "                               activation='sigmoid')                     \n",
    "    ]\n",
    ")\n",
    "\n",
    "model.summary()\n",
    "\n",
    "model.compile('rmsprop', \n",
    "              'binary_crossentropy')"
   ]
  },
  {
   "cell_type": "code",
   "execution_count": 43,
   "id": "55887d9f",
   "metadata": {},
   "outputs": [
    {
     "name": "stdout",
     "output_type": "stream",
     "text": [
      "Epoch 1/10\n",
      "94/94 [==============================] - 68s 711ms/step - loss: 0.0877\n",
      "Epoch 2/10\n",
      "94/94 [==============================] - 67s 708ms/step - loss: 0.0464\n",
      "Epoch 3/10\n",
      "94/94 [==============================] - 66s 700ms/step - loss: 0.0401\n",
      "Epoch 4/10\n",
      "94/94 [==============================] - 66s 699ms/step - loss: 0.0372\n",
      "Epoch 5/10\n",
      "94/94 [==============================] - 66s 699ms/step - loss: 0.0362\n",
      "Epoch 6/10\n",
      "94/94 [==============================] - 66s 700ms/step - loss: 0.0332\n",
      "Epoch 7/10\n",
      "94/94 [==============================] - 66s 701ms/step - loss: 0.0324\n",
      "Epoch 8/10\n",
      "94/94 [==============================] - 66s 700ms/step - loss: 0.0308\n",
      "Epoch 9/10\n",
      "94/94 [==============================] - 67s 709ms/step - loss: 0.0300\n",
      "Epoch 10/10\n",
      "94/94 [==============================] - 68s 722ms/step - loss: 0.0314\n"
     ]
    },
    {
     "data": {
      "text/plain": [
       "<keras.callbacks.History at 0x7fd56397caf0>"
      ]
     },
     "execution_count": 43,
     "metadata": {},
     "output_type": "execute_result"
    }
   ],
   "source": [
    "model.fit(X, y,\n",
    "          epochs = 10)"
   ]
  },
  {
   "cell_type": "code",
   "execution_count": 44,
   "id": "95b43204",
   "metadata": {},
   "outputs": [],
   "source": [
    "predictions = model.predict(X)"
   ]
  },
  {
   "cell_type": "code",
   "execution_count": 46,
   "id": "09637fe6",
   "metadata": {},
   "outputs": [
    {
     "data": {
      "text/plain": [
       "<matplotlib.image.AxesImage at 0x7fd531de8af0>"
      ]
     },
     "execution_count": 46,
     "metadata": {},
     "output_type": "execute_result"
    },
    {
     "data": {
      "image/png": "[encoded data removed]",
      "text/plain": [
       "<Figure size 432x288 with 1 Axes>"
      ]
     },
     "metadata": {
      "needs_background": "light"
     },
     "output_type": "display_data"
    }
   ],
   "source": [
    "plt.imshow(y[-1])"
   ]
  },
  {
   "cell_type": "code",
   "execution_count": 47,
   "id": "2179dc85",
   "metadata": {},
   "outputs": [
    {
     "data": {
      "text/plain": [
       "<matplotlib.image.AxesImage at 0x7fd531c50d00>"
      ]
     },
     "execution_count": 47,
     "metadata": {},
     "output_type": "execute_result"
    },
    {
     "data": {
      "image/png": "[encoded data removed]",
      "text/plain": [
       "<Figure size 432x288 with 1 Axes>"
      ]
     },
     "metadata": {
      "needs_background": "light"
     },
     "output_type": "display_data"
    }
   ],
   "source": [
    "plt.imshow(predictions[- 1] > 0.5)"
   ]
  },
  {
   "cell_type": "code",
   "execution_count": 48,
   "id": "ad4b5c1b",
   "metadata": {},
   "outputs": [
    {
     "data": {
      "text/plain": [
       "1.0"
      ]
     },
     "execution_count": 48,
     "metadata": {},
     "output_type": "execute_result"
    }
   ],
   "source": [
    "predictions.max()"
   ]
  },
  {
   "cell_type": "code",
   "execution_count": 49,
   "id": "7992d0bb",
   "metadata": {},
   "outputs": [
    {
     "data": {
      "text/plain": [
       "2.748649e-09"
      ]
     },
     "execution_count": 49,
     "metadata": {},
     "output_type": "execute_result"
    }
   ],
   "source": [
    "predictions.min()"
   ]
  },
  {
   "cell_type": "code",
   "execution_count": 50,
   "id": "1f33915f",
   "metadata": {},
   "outputs": [
    {
     "data": {
      "text/plain": [
       "3"
      ]
     },
     "execution_count": 50,
     "metadata": {},
     "output_type": "execute_result"
    }
   ],
   "source": [
    "len(y_test_D)"
   ]
  },
  {
   "cell_type": "code",
   "execution_count": 51,
   "id": "00e3035a",
   "metadata": {},
   "outputs": [
    {
     "data": {
      "text/plain": [
       "2979"
      ]
     },
     "execution_count": 51,
     "metadata": {},
     "output_type": "execute_result"
    }
   ],
   "source": [
    "len(y)"
   ]
  },
  {
   "cell_type": "code",
   "execution_count": 52,
   "id": "68e24959",
   "metadata": {},
   "outputs": [
    {
     "data": {
      "text/plain": [
       "3"
      ]
     },
     "execution_count": 52,
     "metadata": {},
     "output_type": "execute_result"
    }
   ],
   "source": [
    "len(X_test_D)"
   ]
  },
  {
   "cell_type": "code",
   "execution_count": 53,
   "id": "c5990481",
   "metadata": {},
   "outputs": [
    {
     "data": {
      "text/plain": [
       "2979"
      ]
     },
     "execution_count": 53,
     "metadata": {},
     "output_type": "execute_result"
    }
   ],
   "source": [
    "len(predictions)"
   ]
  },
  {
   "cell_type": "code",
   "execution_count": 54,
   "id": "62c73b9c",
   "metadata": {},
   "outputs": [
    {
     "ename": "ValueError",
     "evalue": "unknown is not supported",
     "output_type": "error",
     "traceback": [
      "\u001b[0;31m---------------------------------------------------------------------------\u001b[0m",
      "\u001b[0;31mValueError\u001b[0m                                Traceback (most recent call last)",
      "\u001b[0;32m<ipython-input-54-68df1bd33a0d>\u001b[0m in \u001b[0;36m<module>\u001b[0;34m\u001b[0m\n\u001b[0;32m----> 1\u001b[0;31m print(f1_score(y, \n\u001b[0m\u001b[1;32m      2\u001b[0m                predictions))\n",
      "\u001b[0;32m/opt/anaconda3/lib/python3.8/site-packages/sklearn/utils/validation.py\u001b[0m in \u001b[0;36minner_f\u001b[0;34m(*args, **kwargs)\u001b[0m\n\u001b[1;32m     61\u001b[0m             \u001b[0mextra_args\u001b[0m \u001b[0;34m=\u001b[0m \u001b[0mlen\u001b[0m\u001b[0;34m(\u001b[0m\u001b[0margs\u001b[0m\u001b[0;34m)\u001b[0m \u001b[0;34m-\u001b[0m \u001b[0mlen\u001b[0m\u001b[0;34m(\u001b[0m\u001b[0mall_args\u001b[0m\u001b[0;34m)\u001b[0m\u001b[0;34m\u001b[0m\u001b[0;34m\u001b[0m\u001b[0m\n\u001b[1;32m     62\u001b[0m             \u001b[0;32mif\u001b[0m \u001b[0mextra_args\u001b[0m \u001b[0;34m<=\u001b[0m \u001b[0;36m0\u001b[0m\u001b[0;34m:\u001b[0m\u001b[0;34m\u001b[0m\u001b[0;34m\u001b[0m\u001b[0m\n\u001b[0;32m---> 63\u001b[0;31m                 \u001b[0;32mreturn\u001b[0m \u001b[0mf\u001b[0m\u001b[0;34m(\u001b[0m\u001b[0;34m*\u001b[0m\u001b[0margs\u001b[0m\u001b[0;34m,\u001b[0m \u001b[0;34m**\u001b[0m\u001b[0mkwargs\u001b[0m\u001b[0;34m)\u001b[0m\u001b[0;34m\u001b[0m\u001b[0;34m\u001b[0m\u001b[0m\n\u001b[0m\u001b[1;32m     64\u001b[0m \u001b[0;34m\u001b[0m\u001b[0m\n\u001b[1;32m     65\u001b[0m             \u001b[0;31m# extra_args > 0\u001b[0m\u001b[0;34m\u001b[0m\u001b[0;34m\u001b[0m\u001b[0;34m\u001b[0m\u001b[0m\n",
      "\u001b[0;32m/opt/anaconda3/lib/python3.8/site-packages/sklearn/metrics/_classification.py\u001b[0m in \u001b[0;36mf1_score\u001b[0;34m(y_true, y_pred, labels, pos_label, average, sample_weight, zero_division)\u001b[0m\n\u001b[1;32m   1069\u001b[0m     \u001b[0mmodified\u001b[0m \u001b[0;32mwith\u001b[0m\u001b[0;31m \u001b[0m\u001b[0;31m`\u001b[0m\u001b[0;31m`\u001b[0m\u001b[0mzero_division\u001b[0m\u001b[0;31m`\u001b[0m\u001b[0;31m`\u001b[0m\u001b[0;34m.\u001b[0m\u001b[0;34m\u001b[0m\u001b[0;34m\u001b[0m\u001b[0m\n\u001b[1;32m   1070\u001b[0m     \"\"\"\n\u001b[0;32m-> 1071\u001b[0;31m     return fbeta_score(y_true, y_pred, beta=1, labels=labels,\n\u001b[0m\u001b[1;32m   1072\u001b[0m                        \u001b[0mpos_label\u001b[0m\u001b[0;34m=\u001b[0m\u001b[0mpos_label\u001b[0m\u001b[0;34m,\u001b[0m \u001b[0maverage\u001b[0m\u001b[0;34m=\u001b[0m\u001b[0maverage\u001b[0m\u001b[0;34m,\u001b[0m\u001b[0;34m\u001b[0m\u001b[0;34m\u001b[0m\u001b[0m\n\u001b[1;32m   1073\u001b[0m                        \u001b[0msample_weight\u001b[0m\u001b[0;34m=\u001b[0m\u001b[0msample_weight\u001b[0m\u001b[0;34m,\u001b[0m\u001b[0;34m\u001b[0m\u001b[0;34m\u001b[0m\u001b[0m\n",
      "\u001b[0;32m/opt/anaconda3/lib/python3.8/site-packages/sklearn/utils/validation.py\u001b[0m in \u001b[0;36minner_f\u001b[0;34m(*args, **kwargs)\u001b[0m\n\u001b[1;32m     61\u001b[0m             \u001b[0mextra_args\u001b[0m \u001b[0;34m=\u001b[0m \u001b[0mlen\u001b[0m\u001b[0;34m(\u001b[0m\u001b[0margs\u001b[0m\u001b[0;34m)\u001b[0m \u001b[0;34m-\u001b[0m \u001b[0mlen\u001b[0m\u001b[0;34m(\u001b[0m\u001b[0mall_args\u001b[0m\u001b[0;34m)\u001b[0m\u001b[0;34m\u001b[0m\u001b[0;34m\u001b[0m\u001b[0m\n\u001b[1;32m     62\u001b[0m             \u001b[0;32mif\u001b[0m \u001b[0mextra_args\u001b[0m \u001b[0;34m<=\u001b[0m \u001b[0;36m0\u001b[0m\u001b[0;34m:\u001b[0m\u001b[0;34m\u001b[0m\u001b[0;34m\u001b[0m\u001b[0m\n\u001b[0;32m---> 63\u001b[0;31m                 \u001b[0;32mreturn\u001b[0m \u001b[0mf\u001b[0m\u001b[0;34m(\u001b[0m\u001b[0;34m*\u001b[0m\u001b[0margs\u001b[0m\u001b[0;34m,\u001b[0m \u001b[0;34m**\u001b[0m\u001b[0mkwargs\u001b[0m\u001b[0;34m)\u001b[0m\u001b[0;34m\u001b[0m\u001b[0;34m\u001b[0m\u001b[0m\n\u001b[0m\u001b[1;32m     64\u001b[0m \u001b[0;34m\u001b[0m\u001b[0m\n\u001b[1;32m     65\u001b[0m             \u001b[0;31m# extra_args > 0\u001b[0m\u001b[0;34m\u001b[0m\u001b[0;34m\u001b[0m\u001b[0;34m\u001b[0m\u001b[0m\n",
      "\u001b[0;32m/opt/anaconda3/lib/python3.8/site-packages/sklearn/metrics/_classification.py\u001b[0m in \u001b[0;36mfbeta_score\u001b[0;34m(y_true, y_pred, beta, labels, pos_label, average, sample_weight, zero_division)\u001b[0m\n\u001b[1;32m   1193\u001b[0m     \"\"\"\n\u001b[1;32m   1194\u001b[0m \u001b[0;34m\u001b[0m\u001b[0m\n\u001b[0;32m-> 1195\u001b[0;31m     _, _, f, _ = precision_recall_fscore_support(y_true, y_pred,\n\u001b[0m\u001b[1;32m   1196\u001b[0m                                                  \u001b[0mbeta\u001b[0m\u001b[0;34m=\u001b[0m\u001b[0mbeta\u001b[0m\u001b[0;34m,\u001b[0m\u001b[0;34m\u001b[0m\u001b[0;34m\u001b[0m\u001b[0m\n\u001b[1;32m   1197\u001b[0m                                                  \u001b[0mlabels\u001b[0m\u001b[0;34m=\u001b[0m\u001b[0mlabels\u001b[0m\u001b[0;34m,\u001b[0m\u001b[0;34m\u001b[0m\u001b[0;34m\u001b[0m\u001b[0m\n",
      "\u001b[0;32m/opt/anaconda3/lib/python3.8/site-packages/sklearn/utils/validation.py\u001b[0m in \u001b[0;36minner_f\u001b[0;34m(*args, **kwargs)\u001b[0m\n\u001b[1;32m     61\u001b[0m             \u001b[0mextra_args\u001b[0m \u001b[0;34m=\u001b[0m \u001b[0mlen\u001b[0m\u001b[0;34m(\u001b[0m\u001b[0margs\u001b[0m\u001b[0;34m)\u001b[0m \u001b[0;34m-\u001b[0m \u001b[0mlen\u001b[0m\u001b[0;34m(\u001b[0m\u001b[0mall_args\u001b[0m\u001b[0;34m)\u001b[0m\u001b[0;34m\u001b[0m\u001b[0;34m\u001b[0m\u001b[0m\n\u001b[1;32m     62\u001b[0m             \u001b[0;32mif\u001b[0m \u001b[0mextra_args\u001b[0m \u001b[0;34m<=\u001b[0m \u001b[0;36m0\u001b[0m\u001b[0;34m:\u001b[0m\u001b[0;34m\u001b[0m\u001b[0;34m\u001b[0m\u001b[0m\n\u001b[0;32m---> 63\u001b[0;31m                 \u001b[0;32mreturn\u001b[0m \u001b[0mf\u001b[0m\u001b[0;34m(\u001b[0m\u001b[0;34m*\u001b[0m\u001b[0margs\u001b[0m\u001b[0;34m,\u001b[0m \u001b[0;34m**\u001b[0m\u001b[0mkwargs\u001b[0m\u001b[0;34m)\u001b[0m\u001b[0;34m\u001b[0m\u001b[0;34m\u001b[0m\u001b[0m\n\u001b[0m\u001b[1;32m     64\u001b[0m \u001b[0;34m\u001b[0m\u001b[0m\n\u001b[1;32m     65\u001b[0m             \u001b[0;31m# extra_args > 0\u001b[0m\u001b[0;34m\u001b[0m\u001b[0;34m\u001b[0m\u001b[0;34m\u001b[0m\u001b[0m\n",
      "\u001b[0;32m/opt/anaconda3/lib/python3.8/site-packages/sklearn/metrics/_classification.py\u001b[0m in \u001b[0;36mprecision_recall_fscore_support\u001b[0;34m(y_true, y_pred, beta, labels, pos_label, average, warn_for, sample_weight, zero_division)\u001b[0m\n\u001b[1;32m   1462\u001b[0m     \u001b[0;32mif\u001b[0m \u001b[0mbeta\u001b[0m \u001b[0;34m<\u001b[0m \u001b[0;36m0\u001b[0m\u001b[0;34m:\u001b[0m\u001b[0;34m\u001b[0m\u001b[0;34m\u001b[0m\u001b[0m\n\u001b[1;32m   1463\u001b[0m         \u001b[0;32mraise\u001b[0m \u001b[0mValueError\u001b[0m\u001b[0;34m(\u001b[0m\u001b[0;34m\"beta should be >=0 in the F-beta score\"\u001b[0m\u001b[0;34m)\u001b[0m\u001b[0;34m\u001b[0m\u001b[0;34m\u001b[0m\u001b[0m\n\u001b[0;32m-> 1464\u001b[0;31m     labels = _check_set_wise_labels(y_true, y_pred, average, labels,\n\u001b[0m\u001b[1;32m   1465\u001b[0m                                     pos_label)\n\u001b[1;32m   1466\u001b[0m \u001b[0;34m\u001b[0m\u001b[0m\n",
      "\u001b[0;32m/opt/anaconda3/lib/python3.8/site-packages/sklearn/metrics/_classification.py\u001b[0m in \u001b[0;36m_check_set_wise_labels\u001b[0;34m(y_true, y_pred, average, labels, pos_label)\u001b[0m\n\u001b[1;32m   1275\u001b[0m                          str(average_options))\n\u001b[1;32m   1276\u001b[0m \u001b[0;34m\u001b[0m\u001b[0m\n\u001b[0;32m-> 1277\u001b[0;31m     \u001b[0my_type\u001b[0m\u001b[0;34m,\u001b[0m \u001b[0my_true\u001b[0m\u001b[0;34m,\u001b[0m \u001b[0my_pred\u001b[0m \u001b[0;34m=\u001b[0m \u001b[0m_check_targets\u001b[0m\u001b[0;34m(\u001b[0m\u001b[0my_true\u001b[0m\u001b[0;34m,\u001b[0m \u001b[0my_pred\u001b[0m\u001b[0;34m)\u001b[0m\u001b[0;34m\u001b[0m\u001b[0;34m\u001b[0m\u001b[0m\n\u001b[0m\u001b[1;32m   1278\u001b[0m     \u001b[0;31m# Convert to Python primitive type to avoid NumPy type / Python str\u001b[0m\u001b[0;34m\u001b[0m\u001b[0;34m\u001b[0m\u001b[0;34m\u001b[0m\u001b[0m\n\u001b[1;32m   1279\u001b[0m     \u001b[0;31m# comparison. See https://github.com/numpy/numpy/issues/6784\u001b[0m\u001b[0;34m\u001b[0m\u001b[0;34m\u001b[0m\u001b[0;34m\u001b[0m\u001b[0m\n",
      "\u001b[0;32m/opt/anaconda3/lib/python3.8/site-packages/sklearn/metrics/_classification.py\u001b[0m in \u001b[0;36m_check_targets\u001b[0;34m(y_true, y_pred)\u001b[0m\n\u001b[1;32m     98\u001b[0m     \u001b[0;31m# No metrics support \"multiclass-multioutput\" format\u001b[0m\u001b[0;34m\u001b[0m\u001b[0;34m\u001b[0m\u001b[0;34m\u001b[0m\u001b[0m\n\u001b[1;32m     99\u001b[0m     \u001b[0;32mif\u001b[0m \u001b[0;34m(\u001b[0m\u001b[0my_type\u001b[0m \u001b[0;32mnot\u001b[0m \u001b[0;32min\u001b[0m \u001b[0;34m[\u001b[0m\u001b[0;34m\"binary\"\u001b[0m\u001b[0;34m,\u001b[0m \u001b[0;34m\"multiclass\"\u001b[0m\u001b[0;34m,\u001b[0m \u001b[0;34m\"multilabel-indicator\"\u001b[0m\u001b[0;34m]\u001b[0m\u001b[0;34m)\u001b[0m\u001b[0;34m:\u001b[0m\u001b[0;34m\u001b[0m\u001b[0;34m\u001b[0m\u001b[0m\n\u001b[0;32m--> 100\u001b[0;31m         \u001b[0;32mraise\u001b[0m \u001b[0mValueError\u001b[0m\u001b[0;34m(\u001b[0m\u001b[0;34m\"{0} is not supported\"\u001b[0m\u001b[0;34m.\u001b[0m\u001b[0mformat\u001b[0m\u001b[0;34m(\u001b[0m\u001b[0my_type\u001b[0m\u001b[0;34m)\u001b[0m\u001b[0;34m)\u001b[0m\u001b[0;34m\u001b[0m\u001b[0;34m\u001b[0m\u001b[0m\n\u001b[0m\u001b[1;32m    101\u001b[0m \u001b[0;34m\u001b[0m\u001b[0m\n\u001b[1;32m    102\u001b[0m     \u001b[0;32mif\u001b[0m \u001b[0my_type\u001b[0m \u001b[0;32min\u001b[0m \u001b[0;34m[\u001b[0m\u001b[0;34m\"binary\"\u001b[0m\u001b[0;34m,\u001b[0m \u001b[0;34m\"multiclass\"\u001b[0m\u001b[0;34m]\u001b[0m\u001b[0;34m:\u001b[0m\u001b[0;34m\u001b[0m\u001b[0;34m\u001b[0m\u001b[0m\n",
      "\u001b[0;31mValueError\u001b[0m: unknown is not supported"
     ]
    }
   ],
   "source": [
    "print(f1_score(y, \n",
    "               predictions))"
   ]
  },
  {
   "cell_type": "code",
   "execution_count": null,
   "id": "1458b55c",
   "metadata": {},
   "outputs": [],
   "source": []
  },
  {
   "cell_type": "markdown",
   "id": "a81015c9",
   "metadata": {},
   "source": [
    "## THEN STEP 5) FINISH TWEAKING PRE-PROCESSING & RE-ITERATE"
   ]
  },
  {
   "cell_type": "markdown",
   "id": "beab8755",
   "metadata": {},
   "source": [
    "#### (e.g. USE GAUSSIAN BLUR?  WHICH DE-NOISING, AND AFTER vs BEFORE, IMAGE SEGMENTATION, etc.)"
   ]
  },
  {
   "cell_type": "code",
   "execution_count": null,
   "id": "83cade08",
   "metadata": {},
   "outputs": [],
   "source": []
  }
 ],
 "metadata": {
  "kernelspec": {
   "display_name": "Python 3",
   "language": "python",
   "name": "python3"
  },
  "language_info": {
   "codemirror_mode": {
    "name": "ipython",
    "version": 3
   },
   "file_extension": ".py",
   "mimetype": "text/x-python",
   "name": "python",
   "nbconvert_exporter": "python",
   "pygments_lexer": "ipython3",
   "version": "3.8.8"
  }
 },
 "nbformat": 4,
 "nbformat_minor": 5
}
