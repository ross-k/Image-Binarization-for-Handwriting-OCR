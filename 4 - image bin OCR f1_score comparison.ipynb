{
 "cells": [
  {
   "cell_type": "markdown",
   "id": "9e6f6681",
   "metadata": {},
   "source": [
    "## IMAGE BINARIZATION FOR HANDWRITING OCR\n",
    "\n",
    "f1 SCORE COMPARISON - Ross Kimberlin - 6/14/2022\n",
    "\n",
    "(SEE ALSO https://github.com/ross-k/Image-Binarization-for-Handwriting-OCR/tree/ross-test/notebooks)"
   ]
  },
  {
   "cell_type": "code",
   "execution_count": 1,
   "id": "2eef831d",
   "metadata": {},
   "outputs": [],
   "source": [
    "import cv2\n",
    "import glob\n",
    "import imageio as imi\n",
    "import matplotlib.pyplot as plt\n",
    "import numpy as np\n",
    "import os\n",
    "import pandas as pd\n",
    "# import PIL\n",
    "from scipy import misc, ndimage\n",
    "from scipy import misc, ndimage\n",
    "from sklearn.metrics import accuracy_score, \\\n",
    "    classification_report, confusion_matrix, f1_score\n",
    "from sklearn.model_selection import train_test_split\n",
    "from sklearn.preprocessing import LabelEncoder\n",
    "from tqdm import tqdm\n",
    "import tensorflow as tf\n",
    "\n",
    "%matplotlib inline"
   ]
  },
  {
   "cell_type": "markdown",
   "id": "a3dc88e6",
   "metadata": {},
   "source": [
    "## STEP 1) READ IMAGES INTO PYTHON AND INSPECT"
   ]
  },
  {
   "cell_type": "markdown",
   "id": "8b005052",
   "metadata": {},
   "source": [
    "### 1a) 2016 H-DIBCO DATA SET"
   ]
  },
  {
   "cell_type": "markdown",
   "id": "f3495c65",
   "metadata": {},
   "source": [
    "#### 10 images;\n",
    "\n",
    "#### 7031 x 17,003 pixels"
   ]
  },
  {
   "cell_type": "code",
   "execution_count": null,
   "id": "258b2e3b",
   "metadata": {},
   "outputs": [],
   "source": []
  },
  {
   "cell_type": "code",
   "execution_count": 2,
   "id": "45947f88",
   "metadata": {},
   "outputs": [],
   "source": [
    "read_dir_DIBCO_2016_GT = '../data/H-DIBCO_data/DIBCO/2016/DIPCO2016_Dataset_GT/'"
   ]
  },
  {
   "cell_type": "code",
   "execution_count": 3,
   "id": "b080cac5",
   "metadata": {},
   "outputs": [],
   "source": [
    "read_dir_DIBCO_2016    = '../data/H-DIBCO_data/DIBCO/2016/DIPCO2016_dataset/'"
   ]
  },
  {
   "cell_type": "code",
   "execution_count": 4,
   "id": "24b0cc44",
   "metadata": {},
   "outputs": [],
   "source": [
    "DIBCO_2016_GT   = []\n",
    "DIBCO_2016_orig = []\n",
    "\n",
    "for file in sorted(glob.glob(read_dir_DIBCO_2016_GT + '*.bmp'),\n",
    "       key = lambda x: int((x.split('GT/')[1]).split('_gt')[0])):\n",
    "\n",
    "    # CHANGING TO GRAYSCALE\n",
    "    DIBCO_2016_GT.append(cv2.imread(file,\n",
    "                                    cv2.IMREAD_GRAYSCALE))\n",
    "    \n",
    "for file in sorted(glob.glob(read_dir_DIBCO_2016 + '*.bmp'),\n",
    "       key = lambda x: int((x.split('_dataset/')[1]).split('.bmp')[0])):\n",
    "\n",
    "    # CHANGING TO GRAYSCALE\n",
    "    DIBCO_2016_orig.append(cv2.imread(file,\n",
    "                                      cv2.IMREAD_GRAYSCALE))"
   ]
  },
  {
   "cell_type": "code",
   "execution_count": 5,
   "id": "e1f662ba",
   "metadata": {},
   "outputs": [
    {
     "data": {
      "text/plain": [
       "['../data/H-DIBCO_data/DIBCO/2016/DIPCO2016_Dataset_GT/1_gt.bmp',\n",
       " '../data/H-DIBCO_data/DIBCO/2016/DIPCO2016_Dataset_GT/2_gt.bmp',\n",
       " '../data/H-DIBCO_data/DIBCO/2016/DIPCO2016_Dataset_GT/3_gt.bmp',\n",
       " '../data/H-DIBCO_data/DIBCO/2016/DIPCO2016_Dataset_GT/4_gt.bmp',\n",
       " '../data/H-DIBCO_data/DIBCO/2016/DIPCO2016_Dataset_GT/5_gt.bmp',\n",
       " '../data/H-DIBCO_data/DIBCO/2016/DIPCO2016_Dataset_GT/6_gt.bmp',\n",
       " '../data/H-DIBCO_data/DIBCO/2016/DIPCO2016_Dataset_GT/7_gt.bmp',\n",
       " '../data/H-DIBCO_data/DIBCO/2016/DIPCO2016_Dataset_GT/8_gt.bmp',\n",
       " '../data/H-DIBCO_data/DIBCO/2016/DIPCO2016_Dataset_GT/9_gt.bmp',\n",
       " '../data/H-DIBCO_data/DIBCO/2016/DIPCO2016_Dataset_GT/10_gt.bmp']"
      ]
     },
     "execution_count": 5,
     "metadata": {},
     "output_type": "execute_result"
    }
   ],
   "source": [
    "sorted(glob.glob(read_dir_DIBCO_2016_GT + '*.bmp'),\n",
    "       key = lambda x: int((x.split('GT/')[1]).split('_gt')[0]))"
   ]
  },
  {
   "cell_type": "code",
   "execution_count": 6,
   "id": "9adce6ab",
   "metadata": {},
   "outputs": [
    {
     "data": {
      "text/plain": [
       "['../data/H-DIBCO_data/DIBCO/2016/DIPCO2016_dataset/1.bmp',\n",
       " '../data/H-DIBCO_data/DIBCO/2016/DIPCO2016_dataset/2.bmp',\n",
       " '../data/H-DIBCO_data/DIBCO/2016/DIPCO2016_dataset/3.bmp',\n",
       " '../data/H-DIBCO_data/DIBCO/2016/DIPCO2016_dataset/4.bmp',\n",
       " '../data/H-DIBCO_data/DIBCO/2016/DIPCO2016_dataset/5.bmp',\n",
       " '../data/H-DIBCO_data/DIBCO/2016/DIPCO2016_dataset/6.bmp',\n",
       " '../data/H-DIBCO_data/DIBCO/2016/DIPCO2016_dataset/7.bmp',\n",
       " '../data/H-DIBCO_data/DIBCO/2016/DIPCO2016_dataset/8.bmp',\n",
       " '../data/H-DIBCO_data/DIBCO/2016/DIPCO2016_dataset/9.bmp',\n",
       " '../data/H-DIBCO_data/DIBCO/2016/DIPCO2016_dataset/10.bmp']"
      ]
     },
     "execution_count": 6,
     "metadata": {},
     "output_type": "execute_result"
    }
   ],
   "source": [
    "sorted(glob.glob(read_dir_DIBCO_2016 + '*.bmp'),\n",
    "       key = lambda x: int((x.split('_dataset/')[1]).split('.bmp')[0]))"
   ]
  },
  {
   "cell_type": "code",
   "execution_count": null,
   "id": "c6126953",
   "metadata": {},
   "outputs": [],
   "source": []
  },
  {
   "cell_type": "markdown",
   "id": "402472c3",
   "metadata": {},
   "source": [
    "### 1b) 2017 H-DIBCO DATA SET\n",
    "\n",
    "#### 20 images;\n",
    "\n",
    "#### 19, 483 x 30,262 pixels"
   ]
  },
  {
   "cell_type": "code",
   "execution_count": null,
   "id": "7547513f",
   "metadata": {},
   "outputs": [],
   "source": []
  },
  {
   "cell_type": "code",
   "execution_count": 7,
   "id": "dca99225",
   "metadata": {},
   "outputs": [],
   "source": [
    "read_dir_DIBCO_2017_GT = '../data/H-DIBCO_data/DIBCO/2017/GT/'"
   ]
  },
  {
   "cell_type": "code",
   "execution_count": 8,
   "id": "c9cc6e3b",
   "metadata": {},
   "outputs": [],
   "source": [
    "read_dir_DIBCO_2017 = '../data/H-DIBCO_data/DIBCO/2017/Dataset/'"
   ]
  },
  {
   "cell_type": "code",
   "execution_count": 9,
   "id": "db41ece4",
   "metadata": {},
   "outputs": [],
   "source": [
    "DIBCO_2017_GT   = []\n",
    "DIBCO_2017_orig = []\n",
    "\n",
    "for file in sorted(glob.glob(read_dir_DIBCO_2017_GT + '*.bmp'),\n",
    "       key = lambda x: int((x.split('GT/')[1]).split('_gt')[0])):\n",
    "\n",
    "    # CHANGING TO GRAYSCALE\n",
    "    DIBCO_2017_GT.append(cv2.imread(file,\n",
    "                                    cv2.IMREAD_GRAYSCALE))\n",
    "    \n",
    "for file in sorted(glob.glob(read_dir_DIBCO_2017 + '*.bmp'),\n",
    "       key = lambda x: int((x.split('Dataset/')[1]).split('.bmp')[0])):\n",
    "\n",
    "    # CHANGING TO GRAYSCALE\n",
    "    DIBCO_2017_orig.append(cv2.imread(file,\n",
    "                                      cv2.IMREAD_GRAYSCALE))"
   ]
  },
  {
   "cell_type": "code",
   "execution_count": 10,
   "id": "af1bf7a7",
   "metadata": {},
   "outputs": [
    {
     "data": {
      "text/plain": [
       "['../data/H-DIBCO_data/DIBCO/2017/GT/1_gt.bmp',\n",
       " '../data/H-DIBCO_data/DIBCO/2017/GT/2_gt.bmp',\n",
       " '../data/H-DIBCO_data/DIBCO/2017/GT/3_gt.bmp',\n",
       " '../data/H-DIBCO_data/DIBCO/2017/GT/4_gt.bmp',\n",
       " '../data/H-DIBCO_data/DIBCO/2017/GT/5_gt.bmp',\n",
       " '../data/H-DIBCO_data/DIBCO/2017/GT/6_gt.bmp',\n",
       " '../data/H-DIBCO_data/DIBCO/2017/GT/7_gt.bmp',\n",
       " '../data/H-DIBCO_data/DIBCO/2017/GT/8_gt.bmp',\n",
       " '../data/H-DIBCO_data/DIBCO/2017/GT/9_gt.bmp',\n",
       " '../data/H-DIBCO_data/DIBCO/2017/GT/10_gt.bmp',\n",
       " '../data/H-DIBCO_data/DIBCO/2017/GT/11_gt.bmp',\n",
       " '../data/H-DIBCO_data/DIBCO/2017/GT/12_gt.bmp',\n",
       " '../data/H-DIBCO_data/DIBCO/2017/GT/13_gt.bmp',\n",
       " '../data/H-DIBCO_data/DIBCO/2017/GT/14_gt.bmp',\n",
       " '../data/H-DIBCO_data/DIBCO/2017/GT/15_gt.bmp',\n",
       " '../data/H-DIBCO_data/DIBCO/2017/GT/16_gt.bmp',\n",
       " '../data/H-DIBCO_data/DIBCO/2017/GT/17_gt.bmp',\n",
       " '../data/H-DIBCO_data/DIBCO/2017/GT/18_gt.bmp',\n",
       " '../data/H-DIBCO_data/DIBCO/2017/GT/19_gt.bmp',\n",
       " '../data/H-DIBCO_data/DIBCO/2017/GT/20_gt.bmp']"
      ]
     },
     "execution_count": 10,
     "metadata": {},
     "output_type": "execute_result"
    }
   ],
   "source": [
    "sorted(glob.glob(read_dir_DIBCO_2017_GT + '*.bmp'),\n",
    "       key = lambda x: int((x.split('GT/')[1]).split('_gt')[0]))"
   ]
  },
  {
   "cell_type": "code",
   "execution_count": 11,
   "id": "6185de37",
   "metadata": {},
   "outputs": [
    {
     "data": {
      "text/plain": [
       "['../data/H-DIBCO_data/DIBCO/2017/Dataset/1.bmp',\n",
       " '../data/H-DIBCO_data/DIBCO/2017/Dataset/2.bmp',\n",
       " '../data/H-DIBCO_data/DIBCO/2017/Dataset/3.bmp',\n",
       " '../data/H-DIBCO_data/DIBCO/2017/Dataset/4.bmp',\n",
       " '../data/H-DIBCO_data/DIBCO/2017/Dataset/5.bmp',\n",
       " '../data/H-DIBCO_data/DIBCO/2017/Dataset/6.bmp',\n",
       " '../data/H-DIBCO_data/DIBCO/2017/Dataset/7.bmp',\n",
       " '../data/H-DIBCO_data/DIBCO/2017/Dataset/8.bmp',\n",
       " '../data/H-DIBCO_data/DIBCO/2017/Dataset/9.bmp',\n",
       " '../data/H-DIBCO_data/DIBCO/2017/Dataset/10.bmp',\n",
       " '../data/H-DIBCO_data/DIBCO/2017/Dataset/11.bmp',\n",
       " '../data/H-DIBCO_data/DIBCO/2017/Dataset/12.bmp',\n",
       " '../data/H-DIBCO_data/DIBCO/2017/Dataset/13.bmp',\n",
       " '../data/H-DIBCO_data/DIBCO/2017/Dataset/14.bmp',\n",
       " '../data/H-DIBCO_data/DIBCO/2017/Dataset/15.bmp',\n",
       " '../data/H-DIBCO_data/DIBCO/2017/Dataset/16.bmp',\n",
       " '../data/H-DIBCO_data/DIBCO/2017/Dataset/17.bmp',\n",
       " '../data/H-DIBCO_data/DIBCO/2017/Dataset/18.bmp',\n",
       " '../data/H-DIBCO_data/DIBCO/2017/Dataset/19.bmp',\n",
       " '../data/H-DIBCO_data/DIBCO/2017/Dataset/20.bmp']"
      ]
     },
     "execution_count": 11,
     "metadata": {},
     "output_type": "execute_result"
    }
   ],
   "source": [
    "sorted(glob.glob(read_dir_DIBCO_2017 + '*.bmp'),\n",
    "       key = lambda x: int((x.split('Dataset/')[1]).split('.bmp')[0]))"
   ]
  },
  {
   "cell_type": "code",
   "execution_count": null,
   "id": "19d993da",
   "metadata": {},
   "outputs": [],
   "source": []
  },
  {
   "cell_type": "markdown",
   "id": "7a889da3",
   "metadata": {},
   "source": [
    "#### ( CHECKING NUMBER OF PIXELS FOR PRESENTATION )"
   ]
  },
  {
   "cell_type": "code",
   "execution_count": null,
   "id": "3210026b",
   "metadata": {},
   "outputs": [],
   "source": [
    "np.add(DIBCO_2016_orig[0].shape,\n",
    "       DIBCO_2016_orig[1].shape)"
   ]
  },
  {
   "cell_type": "code",
   "execution_count": null,
   "id": "b2de949a",
   "metadata": {},
   "outputs": [],
   "source": [
    "np.add(DIBCO_2016_orig[2].shape,\n",
    "       DIBCO_2016_orig[3].shape)"
   ]
  },
  {
   "cell_type": "code",
   "execution_count": null,
   "id": "3b78abb6",
   "metadata": {},
   "outputs": [],
   "source": [
    "np.add(DIBCO_2016_orig[4].shape,\n",
    "       DIBCO_2016_orig[5].shape)"
   ]
  },
  {
   "cell_type": "code",
   "execution_count": null,
   "id": "93e44a21",
   "metadata": {},
   "outputs": [],
   "source": [
    "np.add(DIBCO_2016_orig[6].shape,\n",
    "       DIBCO_2016_orig[7].shape)"
   ]
  },
  {
   "cell_type": "code",
   "execution_count": null,
   "id": "c0178ef8",
   "metadata": {},
   "outputs": [],
   "source": [
    "np.add(DIBCO_2016_orig[8].shape,\n",
    "       DIBCO_2016_orig[9].shape)"
   ]
  },
  {
   "cell_type": "code",
   "execution_count": null,
   "id": "d3934e11",
   "metadata": {},
   "outputs": [],
   "source": [
    "# 2016 WIDTH\n",
    "2090 + 1679 + 1655 + 990 + 617"
   ]
  },
  {
   "cell_type": "code",
   "execution_count": null,
   "id": "b5f949e3",
   "metadata": {},
   "outputs": [],
   "source": [
    "# 2016 HEIGHT\n",
    "3769 + 4780 + 3992 + 2745 + 1717"
   ]
  },
  {
   "cell_type": "code",
   "execution_count": null,
   "id": "281a5d14",
   "metadata": {},
   "outputs": [],
   "source": []
  },
  {
   "cell_type": "code",
   "execution_count": null,
   "id": "fc6aa232",
   "metadata": {},
   "outputs": [],
   "source": [
    "np.add(DIBCO_2017_orig[0].shape,\n",
    "       DIBCO_2017_orig[1].shape)"
   ]
  },
  {
   "cell_type": "code",
   "execution_count": null,
   "id": "12b730ad",
   "metadata": {},
   "outputs": [],
   "source": [
    "np.add(DIBCO_2017_orig[2].shape,\n",
    "       DIBCO_2017_orig[3].shape)"
   ]
  },
  {
   "cell_type": "code",
   "execution_count": null,
   "id": "6b10fd93",
   "metadata": {},
   "outputs": [],
   "source": [
    "np.add(DIBCO_2017_orig[4].shape,\n",
    "       DIBCO_2017_orig[5].shape)"
   ]
  },
  {
   "cell_type": "code",
   "execution_count": null,
   "id": "819115aa",
   "metadata": {},
   "outputs": [],
   "source": [
    "np.add(DIBCO_2017_orig[6].shape,\n",
    "       DIBCO_2017_orig[7].shape)"
   ]
  },
  {
   "cell_type": "code",
   "execution_count": null,
   "id": "8799f4b8",
   "metadata": {},
   "outputs": [],
   "source": [
    "np.add(DIBCO_2017_orig[8].shape,\n",
    "       DIBCO_2017_orig[9].shape)"
   ]
  },
  {
   "cell_type": "code",
   "execution_count": null,
   "id": "a02fd2ba",
   "metadata": {},
   "outputs": [],
   "source": [
    "np.add(DIBCO_2017_orig[10].shape,\n",
    "       DIBCO_2017_orig[11].shape)"
   ]
  },
  {
   "cell_type": "code",
   "execution_count": null,
   "id": "f7f36e1e",
   "metadata": {},
   "outputs": [],
   "source": [
    "np.add(DIBCO_2017_orig[12].shape,\n",
    "       DIBCO_2017_orig[13].shape)"
   ]
  },
  {
   "cell_type": "code",
   "execution_count": null,
   "id": "5e2ae3fb",
   "metadata": {},
   "outputs": [],
   "source": [
    "np.add(DIBCO_2017_orig[14].shape,\n",
    "       DIBCO_2017_orig[15].shape)"
   ]
  },
  {
   "cell_type": "code",
   "execution_count": null,
   "id": "9c3ab137",
   "metadata": {},
   "outputs": [],
   "source": [
    "np.add(DIBCO_2017_orig[16].shape,\n",
    "       DIBCO_2017_orig[17].shape)"
   ]
  },
  {
   "cell_type": "code",
   "execution_count": null,
   "id": "5938119a",
   "metadata": {},
   "outputs": [],
   "source": [
    "np.add(DIBCO_2017_orig[18].shape,\n",
    "       DIBCO_2017_orig[19].shape)"
   ]
  },
  {
   "cell_type": "code",
   "execution_count": null,
   "id": "fd04275f",
   "metadata": {},
   "outputs": [],
   "source": [
    "# 2017 WIDTH\n",
    "3131 + 2537 + 1166 + 970 + 1733 + 1828 + 1172 + 2589 + 2814 + 1543"
   ]
  },
  {
   "cell_type": "code",
   "execution_count": null,
   "id": "f3848bf3",
   "metadata": {},
   "outputs": [],
   "source": [
    "# 2017 HEIGHT\n",
    "4492 + 4818 + 2642 + 1896 + 3465 + 3175 + 2364 + 2732 + 2283 + 2395"
   ]
  },
  {
   "cell_type": "code",
   "execution_count": null,
   "id": "b1824268",
   "metadata": {},
   "outputs": [],
   "source": []
  },
  {
   "cell_type": "markdown",
   "id": "eaf6a5a7",
   "metadata": {},
   "source": [
    "## STEP 2) TRAINING"
   ]
  },
  {
   "cell_type": "markdown",
   "id": "a050cd78",
   "metadata": {},
   "source": [
    "#### FIRST, OUR OpenCV BASELINE WITH SIMPLE THRESHOLDING."
   ]
  },
  {
   "cell_type": "markdown",
   "id": "099f1439",
   "metadata": {},
   "source": [
    "( BASELINE AVERAGE f1 SCORE WITH 2016 ONLY AND OPTIMAL THRESHOLD OF 156 IS ~ 98.63 %.\n",
    "\n",
    "  2016 & 2017 TOGETHER WITH AN OPTIMAL THRESHOLD OF 131 IS 97.73 %. )"
   ]
  },
  {
   "cell_type": "code",
   "execution_count": null,
   "id": "5f48cd90",
   "metadata": {},
   "outputs": [],
   "source": []
  },
  {
   "cell_type": "code",
   "execution_count": 12,
   "id": "13687393",
   "metadata": {},
   "outputs": [],
   "source": [
    "DIBCO_2016_orig.extend(DIBCO_2017_orig)"
   ]
  },
  {
   "cell_type": "code",
   "execution_count": 13,
   "id": "4303b3ba",
   "metadata": {},
   "outputs": [],
   "source": [
    "DIBCO_2016_GT.extend(DIBCO_2017_GT)"
   ]
  },
  {
   "cell_type": "code",
   "execution_count": 14,
   "id": "62d32212",
   "metadata": {},
   "outputs": [
    {
     "data": {
      "text/plain": [
       "array([[255, 255, 255, ..., 255, 255, 255],\n",
       "       [255, 255, 255, ..., 255, 255, 255],\n",
       "       [255, 255, 255, ..., 255, 255, 255],\n",
       "       ...,\n",
       "       [255, 255, 255, ..., 255, 255, 255],\n",
       "       [255, 255, 255, ..., 255, 255, 255],\n",
       "       [255, 255, 255, ..., 255, 255, 255]], dtype=uint8)"
      ]
     },
     "execution_count": 14,
     "metadata": {},
     "output_type": "execute_result"
    }
   ],
   "source": [
    "DIBCO_2016_GT[20]"
   ]
  },
  {
   "cell_type": "markdown",
   "id": "6c486fb8",
   "metadata": {},
   "source": [
    "#### ( PLUS EXTEND X_train_D & y_train_D )"
   ]
  },
  {
   "cell_type": "code",
   "execution_count": 15,
   "id": "a69a5f91",
   "metadata": {},
   "outputs": [],
   "source": [
    "X_train_D, X_test_D, y_train_D, y_test_D = train_test_split(DIBCO_2016_orig,\n",
    "                                                            DIBCO_2016_GT,\n",
    "                                                            train_size = 0.75,\n",
    "                                                            test_size = 0.25,\n",
    "                                                            random_state = 321)"
   ]
  },
  {
   "cell_type": "markdown",
   "id": "b69a3f38",
   "metadata": {},
   "source": [
    "#### MICHAEL SAYS THAT AN f1 SCORE WILL WORK BETTER WHEN THERE ARE MORE BACKGROUND THAN FOREGROUND PIXELS, AND THAT GALLEGO & CALVO-ZARAGOZA SAY THAT A LARGER WINDOW SIZE SEEMS TO PRODUCE A BETTER f1 SCORE."
   ]
  },
  {
   "cell_type": "code",
   "execution_count": 16,
   "id": "e799baf0",
   "metadata": {},
   "outputs": [],
   "source": [
    "def f1_score_D(thresh, X, y):\n",
    "   \n",
    "    f1_DIBCO = []\n",
    "\n",
    "    for ground_truth, original in zip(y, X):\n",
    "        \n",
    "        # KEEPS THE SECOND ELEMENT OF A TUPLE\n",
    "        _, predicted = cv2.threshold(original,\n",
    "                                     thresh, 255, \n",
    "                                     cv2.THRESH_BINARY)\n",
    "        \n",
    "        # COMPUTE f1 SCORES ACROSS TRAINING DATA\n",
    "        f1_DIBCO.append(f1_score(ground_truth.flatten() == 255,\n",
    "                                 # FORCING A BINARY CLASSIFICATION\n",
    "                                 predicted.flatten() == 255))\n",
    "    \n",
    "    # AVERAGE f1 SCORES\n",
    "    return np.mean(f1_DIBCO) "
   ]
  },
  {
   "cell_type": "code",
   "execution_count": null,
   "id": "079d3684",
   "metadata": {},
   "outputs": [],
   "source": []
  },
  {
   "cell_type": "code",
   "execution_count": null,
   "id": "9bb96805",
   "metadata": {},
   "outputs": [],
   "source": [
    "f1_cont_D = []\n",
    "\n",
    "for thresh in tqdm(range(0, 255), \n",
    "                      desc=\"Progress\"): \n",
    "    \n",
    "    f1_cont_D.append(f1_score_D(thresh, X_test_D, y_test_D))       \n",
    "        "
   ]
  },
  {
   "cell_type": "code",
   "execution_count": null,
   "id": "37065e42",
   "metadata": {},
   "outputs": [],
   "source": [
    "len(f1_cont_D)"
   ]
  },
  {
   "cell_type": "code",
   "execution_count": null,
   "id": "c85be48f",
   "metadata": {},
   "outputs": [],
   "source": [
    "np.asarray(f1_cont_D).max()"
   ]
  },
  {
   "cell_type": "code",
   "execution_count": null,
   "id": "57fcfac7",
   "metadata": {},
   "outputs": [],
   "source": [
    "np.asarray(f1_cont_D).argmax()"
   ]
  },
  {
   "cell_type": "code",
   "execution_count": null,
   "id": "e4ea6bbd",
   "metadata": {},
   "outputs": [],
   "source": [
    "plt.plot(f1_cont_D);"
   ]
  },
  {
   "cell_type": "code",
   "execution_count": null,
   "id": "460d8971",
   "metadata": {},
   "outputs": [],
   "source": []
  },
  {
   "cell_type": "code",
   "execution_count": 17,
   "id": "d85ab127",
   "metadata": {},
   "outputs": [],
   "source": [
    "window_size = 128"
   ]
  },
  {
   "cell_type": "code",
   "execution_count": 18,
   "id": "51fb4fee",
   "metadata": {},
   "outputs": [],
   "source": [
    "def arr_div(img):\n",
    "\n",
    "    cont = []\n",
    "    \n",
    "    idx_row_start_n = 0\n",
    "    idx_col_start_n = 0\n",
    "    \n",
    "    im_size = img.shape\n",
    "    \n",
    "    # // GIVES YOU INTEGER DIVISION\n",
    "    n_windows_tall = im_size[0] // window_size\n",
    "    n_windows_wide = im_size[1] // window_size\n",
    "    \n",
    "    for idx_row_start_n in range(n_windows_tall):\n",
    "    \n",
    "        for idx_col_start_n in range(n_windows_wide):\n",
    "            \n",
    "            window = img[window_size * idx_row_start_n: \\\n",
    "                             window_size * (idx_row_start_n + 1), \n",
    "                         window_size * idx_col_start_n: \\\n",
    "                             window_size * (idx_col_start_n + 1)]\n",
    "    \n",
    "            window = np.divide(window, 255)\n",
    "        \n",
    "            cont.append(window)\n",
    "    \n",
    "    return cont"
   ]
  },
  {
   "cell_type": "code",
   "execution_count": 19,
   "id": "ea0ed848",
   "metadata": {},
   "outputs": [],
   "source": [
    "X = []\n",
    "\n",
    "for img in DIBCO_2016_orig:\n",
    "    \n",
    "    # extend CREATES ONE LONG LIST INSTEAD OF SEVERAL LISTS\n",
    "    X.extend(arr_div(img))"
   ]
  },
  {
   "cell_type": "code",
   "execution_count": 20,
   "id": "0093b6be",
   "metadata": {},
   "outputs": [],
   "source": [
    "X = np.array(X)"
   ]
  },
  {
   "cell_type": "code",
   "execution_count": null,
   "id": "fb8288ab",
   "metadata": {},
   "outputs": [],
   "source": []
  },
  {
   "cell_type": "code",
   "execution_count": 21,
   "id": "66af657f",
   "metadata": {},
   "outputs": [],
   "source": [
    "X_train = []\n",
    "\n",
    "for img in X_train_D:\n",
    "    \n",
    "    X_train.extend(arr_div(img))"
   ]
  },
  {
   "cell_type": "code",
   "execution_count": 22,
   "id": "5f3c65a7",
   "metadata": {},
   "outputs": [],
   "source": [
    "X_test = []\n",
    "\n",
    "for img in X_test_D:\n",
    "    \n",
    "    X_test.extend(arr_div(img))"
   ]
  },
  {
   "cell_type": "code",
   "execution_count": null,
   "id": "1d5da05c",
   "metadata": {},
   "outputs": [],
   "source": []
  },
  {
   "cell_type": "code",
   "execution_count": 23,
   "id": "41782ff2",
   "metadata": {},
   "outputs": [],
   "source": [
    "y_train = []\n",
    "\n",
    "for img in y_train_D:\n",
    "    \n",
    "    y_train.extend(arr_div(img))"
   ]
  },
  {
   "cell_type": "code",
   "execution_count": 24,
   "id": "fda70ac1",
   "metadata": {},
   "outputs": [],
   "source": [
    "y_test = []\n",
    "\n",
    "for img in y_test_D:\n",
    "    \n",
    "    y_test.extend(arr_div(img))"
   ]
  },
  {
   "cell_type": "code",
   "execution_count": null,
   "id": "6fe06f7f",
   "metadata": {},
   "outputs": [],
   "source": []
  },
  {
   "cell_type": "code",
   "execution_count": 25,
   "id": "6aa05fe4",
   "metadata": {},
   "outputs": [],
   "source": [
    "X_train = np.array(X_train)"
   ]
  },
  {
   "cell_type": "code",
   "execution_count": 26,
   "id": "ed723f1f",
   "metadata": {},
   "outputs": [],
   "source": [
    "X_test = np.array(X_test)"
   ]
  },
  {
   "cell_type": "code",
   "execution_count": 27,
   "id": "4f450cc1",
   "metadata": {},
   "outputs": [],
   "source": [
    "y_train = np.array(y_train)"
   ]
  },
  {
   "cell_type": "code",
   "execution_count": 28,
   "id": "f5bd0d8e",
   "metadata": {},
   "outputs": [],
   "source": [
    "y_test = np.array(y_test)"
   ]
  },
  {
   "cell_type": "code",
   "execution_count": null,
   "id": "b3e35b67",
   "metadata": {},
   "outputs": [],
   "source": []
  },
  {
   "cell_type": "code",
   "execution_count": 29,
   "id": "e20cd938",
   "metadata": {},
   "outputs": [],
   "source": [
    "y = []\n",
    "\n",
    "for img in DIBCO_2016_GT:\n",
    "    \n",
    "    # CREATES ONE LONG LIST INSTEAD OF SEVERAL LISTS\n",
    "    y.extend(arr_div(img))"
   ]
  },
  {
   "cell_type": "code",
   "execution_count": 30,
   "id": "7b1ff588",
   "metadata": {},
   "outputs": [],
   "source": [
    "y = np.array(y)"
   ]
  },
  {
   "cell_type": "code",
   "execution_count": 31,
   "id": "df5c793e",
   "metadata": {},
   "outputs": [],
   "source": [
    "window = arr_div(img)"
   ]
  },
  {
   "cell_type": "code",
   "execution_count": 32,
   "id": "35f8a8ff",
   "metadata": {},
   "outputs": [
    {
     "data": {
      "text/plain": [
       "[array([[1., 1., 1., ..., 1., 1., 1.],\n",
       "        [1., 1., 1., ..., 1., 1., 1.],\n",
       "        [1., 1., 1., ..., 1., 1., 1.],\n",
       "        ...,\n",
       "        [1., 1., 1., ..., 1., 1., 1.],\n",
       "        [1., 1., 1., ..., 1., 1., 1.],\n",
       "        [1., 1., 1., ..., 1., 1., 1.]]),\n",
       " array([[1., 1., 1., ..., 1., 1., 1.],\n",
       "        [1., 1., 1., ..., 1., 1., 1.],\n",
       "        [1., 1., 1., ..., 1., 1., 1.],\n",
       "        ...,\n",
       "        [1., 1., 1., ..., 1., 1., 1.],\n",
       "        [1., 1., 1., ..., 1., 1., 1.],\n",
       "        [1., 1., 1., ..., 1., 1., 1.]]),\n",
       " array([[1., 1., 1., ..., 1., 1., 1.],\n",
       "        [1., 1., 1., ..., 1., 1., 1.],\n",
       "        [1., 1., 1., ..., 1., 1., 1.],\n",
       "        ...,\n",
       "        [1., 1., 1., ..., 1., 1., 1.],\n",
       "        [1., 1., 1., ..., 1., 1., 1.],\n",
       "        [1., 1., 1., ..., 1., 1., 1.]]),\n",
       " array([[1., 1., 1., ..., 1., 1., 1.],\n",
       "        [1., 1., 1., ..., 1., 1., 1.],\n",
       "        [1., 1., 1., ..., 1., 1., 1.],\n",
       "        ...,\n",
       "        [1., 1., 1., ..., 1., 1., 1.],\n",
       "        [1., 1., 1., ..., 1., 1., 1.],\n",
       "        [1., 1., 1., ..., 1., 1., 1.]]),\n",
       " array([[1., 1., 1., ..., 1., 1., 1.],\n",
       "        [1., 1., 1., ..., 1., 1., 1.],\n",
       "        [1., 1., 1., ..., 1., 1., 1.],\n",
       "        ...,\n",
       "        [1., 1., 1., ..., 1., 1., 1.],\n",
       "        [1., 1., 1., ..., 1., 1., 1.],\n",
       "        [1., 1., 1., ..., 1., 1., 1.]]),\n",
       " array([[1., 1., 1., ..., 1., 1., 1.],\n",
       "        [1., 1., 1., ..., 1., 1., 1.],\n",
       "        [1., 1., 1., ..., 1., 1., 1.],\n",
       "        ...,\n",
       "        [1., 1., 1., ..., 1., 1., 1.],\n",
       "        [1., 1., 1., ..., 1., 1., 1.],\n",
       "        [1., 1., 1., ..., 1., 1., 1.]]),\n",
       " array([[1., 1., 1., ..., 1., 1., 1.],\n",
       "        [1., 1., 1., ..., 1., 1., 1.],\n",
       "        [1., 1., 1., ..., 1., 1., 1.],\n",
       "        ...,\n",
       "        [1., 1., 1., ..., 1., 1., 1.],\n",
       "        [1., 1., 1., ..., 1., 1., 1.],\n",
       "        [1., 1., 1., ..., 1., 1., 1.]]),\n",
       " array([[1., 1., 1., ..., 1., 1., 1.],\n",
       "        [1., 1., 1., ..., 1., 1., 1.],\n",
       "        [1., 1., 1., ..., 1., 1., 1.],\n",
       "        ...,\n",
       "        [1., 1., 1., ..., 1., 1., 1.],\n",
       "        [1., 1., 1., ..., 1., 1., 1.],\n",
       "        [1., 1., 1., ..., 1., 1., 1.]]),\n",
       " array([[1., 1., 1., ..., 1., 1., 1.],\n",
       "        [1., 1., 1., ..., 1., 1., 1.],\n",
       "        [1., 1., 1., ..., 1., 1., 1.],\n",
       "        ...,\n",
       "        [1., 1., 1., ..., 1., 0., 0.],\n",
       "        [1., 1., 1., ..., 1., 0., 0.],\n",
       "        [1., 1., 1., ..., 1., 0., 0.]]),\n",
       " array([[1., 1., 1., ..., 1., 1., 1.],\n",
       "        [1., 1., 1., ..., 1., 1., 1.],\n",
       "        [1., 1., 1., ..., 1., 1., 1.],\n",
       "        ...,\n",
       "        [0., 0., 0., ..., 1., 1., 1.],\n",
       "        [0., 0., 0., ..., 1., 1., 1.],\n",
       "        [0., 0., 0., ..., 1., 1., 0.]]),\n",
       " array([[1., 1., 1., ..., 1., 1., 1.],\n",
       "        [1., 1., 1., ..., 1., 1., 1.],\n",
       "        [1., 1., 1., ..., 1., 1., 1.],\n",
       "        ...,\n",
       "        [1., 0., 0., ..., 0., 0., 0.],\n",
       "        [1., 1., 0., ..., 0., 0., 0.],\n",
       "        [0., 0., 0., ..., 0., 0., 0.]]),\n",
       " array([[1., 1., 1., ..., 1., 1., 1.],\n",
       "        [1., 1., 1., ..., 1., 1., 1.],\n",
       "        [1., 1., 1., ..., 1., 1., 1.],\n",
       "        ...,\n",
       "        [1., 1., 1., ..., 1., 1., 0.],\n",
       "        [1., 1., 1., ..., 1., 1., 0.],\n",
       "        [1., 1., 1., ..., 1., 1., 0.]]),\n",
       " array([[1., 1., 1., ..., 1., 1., 1.],\n",
       "        [1., 1., 1., ..., 1., 1., 1.],\n",
       "        [1., 1., 1., ..., 1., 1., 1.],\n",
       "        ...,\n",
       "        [0., 0., 0., ..., 0., 1., 1.],\n",
       "        [0., 0., 0., ..., 0., 0., 1.],\n",
       "        [0., 0., 0., ..., 0., 0., 1.]]),\n",
       " array([[1., 1., 1., ..., 1., 1., 1.],\n",
       "        [1., 1., 1., ..., 1., 1., 1.],\n",
       "        [1., 1., 1., ..., 1., 1., 1.],\n",
       "        ...,\n",
       "        [1., 1., 1., ..., 0., 0., 0.],\n",
       "        [1., 1., 1., ..., 0., 0., 0.],\n",
       "        [1., 1., 1., ..., 0., 0., 0.]]),\n",
       " array([[1., 1., 1., ..., 1., 1., 1.],\n",
       "        [1., 1., 1., ..., 1., 1., 1.],\n",
       "        [1., 1., 1., ..., 1., 1., 1.],\n",
       "        ...,\n",
       "        [0., 0., 1., ..., 1., 1., 1.],\n",
       "        [0., 0., 1., ..., 1., 1., 1.],\n",
       "        [0., 0., 1., ..., 1., 1., 1.]]),\n",
       " array([[1., 1., 1., ..., 1., 1., 1.],\n",
       "        [1., 1., 1., ..., 1., 1., 1.],\n",
       "        [1., 1., 1., ..., 1., 1., 1.],\n",
       "        ...,\n",
       "        [1., 1., 1., ..., 1., 1., 1.],\n",
       "        [1., 1., 1., ..., 1., 1., 1.],\n",
       "        [1., 1., 1., ..., 1., 1., 1.]]),\n",
       " array([[1., 1., 1., ..., 1., 0., 0.],\n",
       "        [1., 1., 1., ..., 1., 0., 0.],\n",
       "        [1., 1., 1., ..., 0., 0., 0.],\n",
       "        ...,\n",
       "        [1., 1., 1., ..., 0., 0., 0.],\n",
       "        [1., 1., 1., ..., 0., 0., 0.],\n",
       "        [1., 1., 1., ..., 0., 0., 0.]]),\n",
       " array([[0., 0., 0., ..., 1., 1., 1.],\n",
       "        [0., 0., 0., ..., 1., 1., 1.],\n",
       "        [0., 0., 0., ..., 1., 1., 1.],\n",
       "        ...,\n",
       "        [0., 0., 1., ..., 1., 1., 1.],\n",
       "        [0., 0., 1., ..., 1., 1., 1.],\n",
       "        [0., 0., 1., ..., 1., 1., 1.]]),\n",
       " array([[0., 0., 0., ..., 0., 0., 0.],\n",
       "        [1., 0., 0., ..., 0., 0., 0.],\n",
       "        [1., 0., 0., ..., 0., 0., 0.],\n",
       "        ...,\n",
       "        [1., 1., 1., ..., 1., 1., 1.],\n",
       "        [1., 1., 1., ..., 1., 1., 1.],\n",
       "        [1., 1., 1., ..., 1., 1., 1.]]),\n",
       " array([[1., 1., 1., ..., 1., 1., 0.],\n",
       "        [0., 1., 1., ..., 1., 1., 0.],\n",
       "        [0., 0., 1., ..., 1., 1., 0.],\n",
       "        ...,\n",
       "        [1., 1., 1., ..., 1., 1., 1.],\n",
       "        [1., 1., 1., ..., 1., 1., 1.],\n",
       "        [1., 1., 1., ..., 1., 1., 1.]]),\n",
       " array([[0., 0., 0., ..., 0., 0., 0.],\n",
       "        [0., 0., 0., ..., 0., 0., 0.],\n",
       "        [0., 0., 0., ..., 0., 0., 0.],\n",
       "        ...,\n",
       "        [1., 1., 1., ..., 0., 0., 0.],\n",
       "        [1., 1., 1., ..., 0., 0., 0.],\n",
       "        [1., 1., 1., ..., 1., 1., 1.]]),\n",
       " array([[1., 1., 1., ..., 0., 0., 0.],\n",
       "        [1., 1., 1., ..., 0., 0., 0.],\n",
       "        [0., 1., 1., ..., 0., 0., 0.],\n",
       "        ...,\n",
       "        [0., 1., 1., ..., 1., 1., 1.],\n",
       "        [1., 1., 1., ..., 0., 1., 1.],\n",
       "        [1., 1., 1., ..., 0., 0., 0.]]),\n",
       " array([[0., 1., 1., ..., 1., 1., 1.],\n",
       "        [0., 1., 1., ..., 1., 1., 1.],\n",
       "        [1., 1., 1., ..., 1., 1., 1.],\n",
       "        ...,\n",
       "        [1., 1., 1., ..., 1., 1., 1.],\n",
       "        [1., 1., 1., ..., 1., 1., 1.],\n",
       "        [0., 1., 1., ..., 1., 1., 1.]]),\n",
       " array([[1., 1., 1., ..., 1., 1., 1.],\n",
       "        [1., 1., 1., ..., 1., 1., 1.],\n",
       "        [1., 1., 1., ..., 1., 1., 1.],\n",
       "        ...,\n",
       "        [1., 1., 0., ..., 1., 1., 1.],\n",
       "        [1., 1., 0., ..., 1., 1., 1.],\n",
       "        [1., 1., 0., ..., 1., 1., 1.]]),\n",
       " array([[1., 1., 1., ..., 1., 0., 0.],\n",
       "        [1., 1., 1., ..., 1., 0., 0.],\n",
       "        [1., 1., 1., ..., 0., 0., 0.],\n",
       "        ...,\n",
       "        [1., 1., 1., ..., 0., 0., 1.],\n",
       "        [1., 1., 1., ..., 0., 0., 0.],\n",
       "        [1., 1., 1., ..., 0., 0., 0.]]),\n",
       " array([[0., 0., 1., ..., 1., 1., 1.],\n",
       "        [0., 0., 0., ..., 1., 1., 1.],\n",
       "        [0., 0., 0., ..., 1., 1., 1.],\n",
       "        ...,\n",
       "        [1., 1., 1., ..., 0., 0., 0.],\n",
       "        [1., 1., 1., ..., 0., 0., 0.],\n",
       "        [0., 1., 1., ..., 0., 0., 0.]]),\n",
       " array([[1., 1., 1., ..., 1., 1., 1.],\n",
       "        [1., 1., 1., ..., 1., 1., 1.],\n",
       "        [1., 1., 1., ..., 1., 1., 1.],\n",
       "        ...,\n",
       "        [0., 0., 0., ..., 1., 0., 0.],\n",
       "        [0., 0., 0., ..., 0., 0., 0.],\n",
       "        [0., 0., 0., ..., 0., 0., 0.]]),\n",
       " array([[1., 1., 1., ..., 1., 1., 1.],\n",
       "        [1., 1., 1., ..., 1., 1., 1.],\n",
       "        [1., 1., 1., ..., 1., 1., 1.],\n",
       "        ...,\n",
       "        [0., 0., 0., ..., 1., 1., 1.],\n",
       "        [0., 0., 0., ..., 0., 1., 1.],\n",
       "        [0., 0., 0., ..., 0., 0., 0.]]),\n",
       " array([[1., 1., 1., ..., 1., 1., 1.],\n",
       "        [1., 1., 1., ..., 1., 1., 1.],\n",
       "        [1., 1., 1., ..., 1., 1., 1.],\n",
       "        ...,\n",
       "        [1., 1., 1., ..., 1., 1., 1.],\n",
       "        [1., 1., 1., ..., 1., 1., 1.],\n",
       "        [1., 1., 1., ..., 1., 1., 1.]]),\n",
       " array([[1., 1., 1., ..., 0., 0., 0.],\n",
       "        [1., 1., 1., ..., 0., 0., 0.],\n",
       "        [1., 1., 1., ..., 0., 0., 0.],\n",
       "        ...,\n",
       "        [1., 1., 1., ..., 0., 0., 0.],\n",
       "        [1., 1., 1., ..., 0., 0., 0.],\n",
       "        [1., 1., 1., ..., 0., 0., 0.]]),\n",
       " array([[0., 0., 0., ..., 1., 1., 1.],\n",
       "        [0., 0., 0., ..., 1., 1., 1.],\n",
       "        [0., 0., 0., ..., 1., 1., 1.],\n",
       "        ...,\n",
       "        [0., 1., 1., ..., 0., 0., 1.],\n",
       "        [0., 1., 1., ..., 0., 0., 1.],\n",
       "        [0., 0., 0., ..., 0., 0., 1.]]),\n",
       " array([[1., 1., 0., ..., 1., 1., 1.],\n",
       "        [1., 1., 0., ..., 1., 1., 1.],\n",
       "        [1., 1., 0., ..., 1., 1., 1.],\n",
       "        ...,\n",
       "        [1., 1., 1., ..., 1., 1., 1.],\n",
       "        [1., 1., 1., ..., 1., 1., 1.],\n",
       "        [1., 1., 1., ..., 1., 1., 1.]]),\n",
       " array([[1., 1., 1., ..., 0., 0., 0.],\n",
       "        [1., 1., 1., ..., 0., 0., 0.],\n",
       "        [1., 1., 1., ..., 0., 0., 0.],\n",
       "        ...,\n",
       "        [1., 1., 1., ..., 1., 1., 1.],\n",
       "        [1., 1., 1., ..., 1., 1., 1.],\n",
       "        [1., 1., 1., ..., 1., 1., 1.]]),\n",
       " array([[0., 0., 1., ..., 0., 0., 0.],\n",
       "        [0., 0., 0., ..., 0., 0., 1.],\n",
       "        [0., 0., 0., ..., 0., 1., 1.],\n",
       "        ...,\n",
       "        [1., 1., 1., ..., 1., 1., 1.],\n",
       "        [1., 1., 1., ..., 1., 1., 1.],\n",
       "        [1., 1., 1., ..., 1., 1., 1.]]),\n",
       " array([[0., 0., 0., ..., 0., 0., 0.],\n",
       "        [1., 0., 0., ..., 0., 0., 0.],\n",
       "        [1., 1., 0., ..., 0., 0., 1.],\n",
       "        ...,\n",
       "        [1., 1., 1., ..., 1., 1., 1.],\n",
       "        [1., 1., 1., ..., 1., 1., 1.],\n",
       "        [1., 1., 1., ..., 1., 1., 1.]]),\n",
       " array([[0., 1., 1., ..., 0., 0., 0.],\n",
       "        [1., 1., 1., ..., 0., 0., 0.],\n",
       "        [1., 1., 1., ..., 0., 0., 0.],\n",
       "        ...,\n",
       "        [1., 1., 1., ..., 1., 1., 1.],\n",
       "        [1., 1., 1., ..., 1., 1., 1.],\n",
       "        [1., 1., 1., ..., 1., 1., 1.]]),\n",
       " array([[1., 1., 1., ..., 1., 1., 1.],\n",
       "        [1., 1., 1., ..., 1., 1., 1.],\n",
       "        [1., 1., 1., ..., 1., 1., 1.],\n",
       "        ...,\n",
       "        [1., 1., 1., ..., 1., 1., 1.],\n",
       "        [1., 1., 1., ..., 1., 1., 1.],\n",
       "        [1., 1., 1., ..., 1., 1., 1.]]),\n",
       " array([[1., 1., 0., ..., 0., 0., 0.],\n",
       "        [1., 0., 0., ..., 0., 0., 0.],\n",
       "        [1., 0., 0., ..., 0., 0., 0.],\n",
       "        ...,\n",
       "        [1., 1., 1., ..., 1., 1., 1.],\n",
       "        [1., 1., 1., ..., 1., 1., 1.],\n",
       "        [1., 1., 1., ..., 1., 1., 1.]]),\n",
       " array([[0., 0., 0., ..., 0., 0., 1.],\n",
       "        [0., 0., 0., ..., 0., 0., 1.],\n",
       "        [0., 0., 0., ..., 0., 0., 1.],\n",
       "        ...,\n",
       "        [1., 1., 1., ..., 1., 1., 1.],\n",
       "        [1., 1., 1., ..., 1., 1., 1.],\n",
       "        [1., 1., 1., ..., 1., 1., 1.]]),\n",
       " array([[1., 1., 1., ..., 1., 1., 1.],\n",
       "        [1., 1., 1., ..., 1., 1., 1.],\n",
       "        [1., 1., 1., ..., 1., 1., 1.],\n",
       "        ...,\n",
       "        [1., 1., 1., ..., 1., 1., 1.],\n",
       "        [1., 1., 1., ..., 1., 1., 1.],\n",
       "        [1., 1., 1., ..., 1., 1., 1.]]),\n",
       " array([[1., 1., 1., ..., 1., 1., 1.],\n",
       "        [1., 1., 1., ..., 1., 1., 1.],\n",
       "        [1., 1., 1., ..., 1., 1., 1.],\n",
       "        ...,\n",
       "        [1., 1., 1., ..., 1., 1., 1.],\n",
       "        [1., 1., 1., ..., 1., 1., 1.],\n",
       "        [1., 1., 1., ..., 1., 1., 1.]]),\n",
       " array([[1., 1., 0., ..., 1., 1., 1.],\n",
       "        [1., 0., 0., ..., 1., 1., 1.],\n",
       "        [0., 0., 0., ..., 1., 1., 1.],\n",
       "        ...,\n",
       "        [1., 1., 1., ..., 1., 1., 1.],\n",
       "        [1., 1., 1., ..., 1., 1., 1.],\n",
       "        [1., 1., 1., ..., 1., 1., 1.]]),\n",
       " array([[1., 1., 1., ..., 1., 1., 1.],\n",
       "        [1., 1., 1., ..., 1., 1., 1.],\n",
       "        [1., 1., 1., ..., 1., 1., 1.],\n",
       "        ...,\n",
       "        [1., 1., 1., ..., 1., 1., 1.],\n",
       "        [1., 1., 1., ..., 1., 1., 1.],\n",
       "        [1., 1., 1., ..., 1., 1., 1.]]),\n",
       " array([[1., 1., 1., ..., 1., 1., 1.],\n",
       "        [1., 1., 1., ..., 1., 1., 1.],\n",
       "        [1., 1., 1., ..., 1., 1., 1.],\n",
       "        ...,\n",
       "        [1., 1., 1., ..., 1., 1., 1.],\n",
       "        [1., 1., 1., ..., 1., 1., 1.],\n",
       "        [1., 1., 1., ..., 1., 1., 1.]]),\n",
       " array([[1., 1., 1., ..., 1., 1., 1.],\n",
       "        [1., 1., 1., ..., 1., 1., 1.],\n",
       "        [1., 1., 1., ..., 1., 1., 1.],\n",
       "        ...,\n",
       "        [1., 1., 1., ..., 1., 1., 1.],\n",
       "        [1., 1., 1., ..., 1., 1., 1.],\n",
       "        [1., 1., 1., ..., 1., 1., 1.]]),\n",
       " array([[1., 1., 1., ..., 1., 1., 1.],\n",
       "        [1., 1., 1., ..., 1., 1., 1.],\n",
       "        [1., 1., 1., ..., 1., 1., 1.],\n",
       "        ...,\n",
       "        [1., 1., 1., ..., 1., 1., 1.],\n",
       "        [1., 1., 1., ..., 1., 1., 1.],\n",
       "        [1., 1., 1., ..., 1., 1., 1.]]),\n",
       " array([[1., 1., 1., ..., 1., 1., 1.],\n",
       "        [1., 1., 1., ..., 1., 1., 1.],\n",
       "        [1., 1., 1., ..., 1., 1., 1.],\n",
       "        ...,\n",
       "        [1., 1., 1., ..., 1., 1., 1.],\n",
       "        [1., 1., 1., ..., 1., 1., 1.],\n",
       "        [1., 1., 1., ..., 1., 1., 1.]]),\n",
       " array([[1., 1., 1., ..., 1., 1., 1.],\n",
       "        [1., 1., 1., ..., 1., 1., 1.],\n",
       "        [1., 1., 1., ..., 1., 1., 1.],\n",
       "        ...,\n",
       "        [1., 1., 1., ..., 1., 1., 1.],\n",
       "        [1., 1., 1., ..., 1., 1., 1.],\n",
       "        [1., 1., 1., ..., 1., 1., 1.]])]"
      ]
     },
     "execution_count": 32,
     "metadata": {},
     "output_type": "execute_result"
    }
   ],
   "source": [
    "window"
   ]
  },
  {
   "cell_type": "code",
   "execution_count": null,
   "id": "ec2b6ac5",
   "metadata": {},
   "outputs": [],
   "source": [
    "len(X)"
   ]
  },
  {
   "cell_type": "code",
   "execution_count": null,
   "id": "6aba9b66",
   "metadata": {},
   "outputs": [],
   "source": [
    "X[0].shape"
   ]
  },
  {
   "cell_type": "code",
   "execution_count": null,
   "id": "032644a7",
   "metadata": {},
   "outputs": [],
   "source": []
  },
  {
   "cell_type": "markdown",
   "id": "2365c14f",
   "metadata": {},
   "source": [
    "### STEP 3) KERAS MODEL"
   ]
  },
  {
   "cell_type": "markdown",
   "id": "1333f3c3",
   "metadata": {},
   "source": [
    "#### For 2016 data only, with 3 x 3 kernels, three layers, ten epochs, and a window size of 64, the mean f1 score is 98.11%.\n",
    "\n",
    "#### For 2016 and 2017 data combined, with the above network specs, the mean f1 score becomes 98.47%."
   ]
  },
  {
   "cell_type": "markdown",
   "id": "ee3ed2e4",
   "metadata": {},
   "source": [
    "#### For 2016 and 2017 data combined, with 3 x 3 kernels, three layers, ten epochs, and a window size of 128, the mean f1 score is 98.81%.\n",
    "\n"
   ]
  },
  {
   "cell_type": "code",
   "execution_count": null,
   "id": "63d68215",
   "metadata": {},
   "outputs": [],
   "source": []
  },
  {
   "cell_type": "code",
   "execution_count": null,
   "id": "ffafc033",
   "metadata": {},
   "outputs": [],
   "source": []
  },
  {
   "cell_type": "markdown",
   "id": "dee0c6a1",
   "metadata": {},
   "source": [
    "( FOR A KERAS CNN WITH FIVE NETWORK LAYERS, TEN EPOCHS, AND A window_size = 64,\n",
    " \n",
    "  THE AVERAGE f1 SCORE IS ~ 97.96 %. \n",
    "  \n",
    "  FOR A THREE-LAYERS, ~ 96.92 %.)"
   ]
  },
  {
   "cell_type": "markdown",
   "id": "11a5d385",
   "metadata": {},
   "source": [
    "( FOR FIVE LAYERS, TEN EPOCHS, AND window_size = 128,\n",
    "\n",
    "  THE AVERAGE f1 SCORE IS ~ 97.5 %. \n",
    "  \n",
    "  WITH window_size = 96, THE AVERAGE f1 SCORE BECOMES ~ 98.3 %.)"
   ]
  },
  {
   "cell_type": "markdown",
   "id": "3525231c",
   "metadata": {},
   "source": [
    "( A KERNEL SIZE OF 5 x 5 (vs 3 x 3) YIELDED\n",
    " \n",
    "  AN AVERAGE f1 SCORE OF ~ 97.84 %, NOT ENOUGH OF AN IMPROVEMENT \n",
    "  \n",
    "  TO JUSTIFY THE ADDITIONAL COMPUTATION OVERHEAD )."
   ]
  },
  {
   "cell_type": "code",
   "execution_count": null,
   "id": "7d044f62",
   "metadata": {},
   "outputs": [],
   "source": []
  },
  {
   "cell_type": "markdown",
   "id": "279d08f8",
   "metadata": {},
   "source": [
    "#### ( TO DO - TRY DIFFERENT WINDOW SIZE?  DIFFERENT KERNEL SIZE? )"
   ]
  },
  {
   "cell_type": "code",
   "execution_count": 33,
   "id": "19cdefc0",
   "metadata": {},
   "outputs": [
    {
     "name": "stderr",
     "output_type": "stream",
     "text": [
      "2022-06-15 07:52:43.854639: I tensorflow/core/platform/cpu_feature_guard.cc:151] This TensorFlow binary is optimized with oneAPI Deep Neural Network Library (oneDNN) to use the following CPU instructions in performance-critical operations:  AVX2 FMA\n",
      "To enable them in other operations, rebuild TensorFlow with the appropriate compiler flags.\n"
     ]
    }
   ],
   "source": [
    "model = tf.keras.Sequential(\n",
    "    [\n",
    "        tf.keras.Input(shape = (window_size, window_size, 1)),\n",
    "        tf.keras.layers.Conv2D(32, \n",
    "                               kernel_size=(3, 3),\n",
    "                               strides = 1,\n",
    "                               padding = 'same'),\n",
    "        tf.keras.layers.BatchNormalization(axis = 1),\n",
    "        tf.keras.layers.Activation('relu'),\n",
    "        tf.keras.layers.Conv2D(32, \n",
    "                               kernel_size=(3, 3),\n",
    "                               strides = 1,\n",
    "                               padding = 'same'),\n",
    "        tf.keras.layers.BatchNormalization(axis = 1),\n",
    "        tf.keras.layers.Activation('relu'),\n",
    "        tf.keras.layers.Conv2D(32, \n",
    "                               kernel_size=(3, 3),\n",
    "                               strides = 1,\n",
    "                               padding = 'same'),                       \n",
    "        tf.keras.layers.BatchNormalization(axis = 1),\n",
    "        tf.keras.layers.Activation('relu'),\n",
    "        \n",
    "        # PLUS TWO MORE\n",
    "        tf.keras.layers.Conv2D(32, \n",
    "                               kernel_size=(5, 5),\n",
    "                               strides = 1,\n",
    "                               padding = 'same'),\n",
    "        tf.keras.layers.BatchNormalization(axis = 1),\n",
    "        tf.keras.layers.Activation('relu'),\n",
    "        tf.keras.layers.Conv2D(32, \n",
    "                               kernel_size=(5, 5),\n",
    "                               strides = 1,\n",
    "                               padding = 'same'),\n",
    "        tf.keras.layers.BatchNormalization(axis = 1),\n",
    "        tf.keras.layers.Activation('relu'),\n",
    "        \n",
    "        # NOW TRANSPOSE\n",
    "        tf.keras.layers.Conv2DTranspose(32, \n",
    "                               kernel_size=(3, 3),\n",
    "                               strides = 1,\n",
    "                               padding = 'same'),\n",
    "        tf.keras.layers.BatchNormalization(axis = 1),\n",
    "        tf.keras.layers.Activation('relu'),                       \n",
    "        tf.keras.layers.Conv2DTranspose(32, \n",
    "                               kernel_size=(3, 3),\n",
    "                               strides = 1,\n",
    "                               padding = 'same'),\n",
    "        tf.keras.layers.BatchNormalization(axis = 1),\n",
    "        tf.keras.layers.Activation('relu'), \n",
    "        tf.keras.layers.Conv2DTranspose(32, \n",
    "                               kernel_size=(3, 3),\n",
    "                               strides = 1,\n",
    "                               padding = 'same'),\n",
    "        tf.keras.layers.BatchNormalization(axis = 1),\n",
    "        tf.keras.layers.Activation('relu'), \n",
    " \n",
    "        # AND TWO MORE TRANSPOSED\n",
    "        tf.keras.layers.Conv2DTranspose(32, \n",
    "                               kernel_size=(5, 5),\n",
    "                               strides = 1,\n",
    "                               padding = 'same'),\n",
    "        tf.keras.layers.BatchNormalization(axis = 1),\n",
    "        tf.keras.layers.Activation('relu'), \n",
    "        tf.keras.layers.Conv2DTranspose(32, \n",
    "                               kernel_size=(5, 5),\n",
    "                               strides = 1,\n",
    "                               padding = 'same'),\n",
    "        tf.keras.layers.BatchNormalization(axis = 1),\n",
    "        tf.keras.layers.Activation('relu'),         \n",
    "        \n",
    "        tf.keras.layers.Conv2D(1, \n",
    "                               kernel_size=(3, 3),\n",
    "                               strides=1, \n",
    "                               padding='same', \n",
    "                               activation='sigmoid')                     \n",
    "    ]\n",
    ")\n",
    "\n",
    "# model.summary()\n",
    "\n",
    "model.compile('rmsprop', \n",
    "              'binary_crossentropy')"
   ]
  },
  {
   "cell_type": "code",
   "execution_count": 120,
   "id": "47d21307",
   "metadata": {},
   "outputs": [
    {
     "name": "stdout",
     "output_type": "stream",
     "text": [
      "Model: \"sequential_4\"\n",
      "_________________________________________________________________\n",
      " Layer (type)                Output Shape              Param #   \n",
      "=================================================================\n",
      " conv2d_16 (Conv2D)          (None, 128, 128, 32)      320       \n",
      "                                                                 \n",
      " batch_normalization_24 (Bat  (None, 128, 128, 32)     512       \n",
      " chNormalization)                                                \n",
      "                                                                 \n",
      " activation_24 (Activation)  (None, 128, 128, 32)      0         \n",
      "                                                                 \n",
      " conv2d_17 (Conv2D)          (None, 128, 128, 32)      9248      \n",
      "                                                                 \n",
      " batch_normalization_25 (Bat  (None, 128, 128, 32)     512       \n",
      " chNormalization)                                                \n",
      "                                                                 \n",
      " activation_25 (Activation)  (None, 128, 128, 32)      0         \n",
      "                                                                 \n",
      " conv2d_18 (Conv2D)          (None, 128, 128, 32)      9248      \n",
      "                                                                 \n",
      " batch_normalization_26 (Bat  (None, 128, 128, 32)     512       \n",
      " chNormalization)                                                \n",
      "                                                                 \n",
      " activation_26 (Activation)  (None, 128, 128, 32)      0         \n",
      "                                                                 \n",
      " conv2d_19 (Conv2D)          (None, 128, 128, 32)      25632     \n",
      "                                                                 \n",
      " batch_normalization_27 (Bat  (None, 128, 128, 32)     512       \n",
      " chNormalization)                                                \n",
      "                                                                 \n",
      " activation_27 (Activation)  (None, 128, 128, 32)      0         \n",
      "                                                                 \n",
      " conv2d_20 (Conv2D)          (None, 128, 128, 32)      25632     \n",
      "                                                                 \n",
      " batch_normalization_28 (Bat  (None, 128, 128, 32)     512       \n",
      " chNormalization)                                                \n",
      "                                                                 \n",
      " activation_28 (Activation)  (None, 128, 128, 32)      0         \n",
      "                                                                 \n",
      " conv2d_transpose_12 (Conv2D  (None, 128, 128, 32)     9248      \n",
      " Transpose)                                                      \n",
      "                                                                 \n",
      " batch_normalization_29 (Bat  (None, 128, 128, 32)     512       \n",
      " chNormalization)                                                \n",
      "                                                                 \n",
      " activation_29 (Activation)  (None, 128, 128, 32)      0         \n",
      "                                                                 \n",
      " conv2d_transpose_13 (Conv2D  (None, 128, 128, 32)     9248      \n",
      " Transpose)                                                      \n",
      "                                                                 \n",
      " batch_normalization_30 (Bat  (None, 128, 128, 32)     512       \n",
      " chNormalization)                                                \n",
      "                                                                 \n",
      " activation_30 (Activation)  (None, 128, 128, 32)      0         \n",
      "                                                                 \n",
      " conv2d_transpose_14 (Conv2D  (None, 128, 128, 32)     9248      \n",
      " Transpose)                                                      \n",
      "                                                                 \n",
      " batch_normalization_31 (Bat  (None, 128, 128, 32)     512       \n",
      " chNormalization)                                                \n",
      "                                                                 \n",
      " activation_31 (Activation)  (None, 128, 128, 32)      0         \n",
      "                                                                 \n",
      " conv2d_transpose_15 (Conv2D  (None, 128, 128, 32)     25632     \n",
      " Transpose)                                                      \n",
      "                                                                 \n",
      " batch_normalization_32 (Bat  (None, 128, 128, 32)     512       \n",
      " chNormalization)                                                \n",
      "                                                                 \n",
      " activation_32 (Activation)  (None, 128, 128, 32)      0         \n",
      "                                                                 \n",
      " conv2d_transpose_16 (Conv2D  (None, 128, 128, 32)     25632     \n",
      " Transpose)                                                      \n",
      "                                                                 \n",
      " batch_normalization_33 (Bat  (None, 128, 128, 32)     512       \n",
      " chNormalization)                                                \n",
      "                                                                 \n",
      " activation_33 (Activation)  (None, 128, 128, 32)      0         \n",
      "                                                                 \n",
      " conv2d_21 (Conv2D)          (None, 128, 128, 1)       289       \n",
      "                                                                 \n",
      "=================================================================\n",
      "Total params: 154,497\n",
      "Trainable params: 151,937\n",
      "Non-trainable params: 2,560\n",
      "_________________________________________________________________\n"
     ]
    }
   ],
   "source": [
    "model.summary()"
   ]
  },
  {
   "cell_type": "code",
   "execution_count": null,
   "id": "1e7f1405",
   "metadata": {},
   "outputs": [],
   "source": [
    "# model_B = "
   ]
  },
  {
   "cell_type": "code",
   "execution_count": 34,
   "id": "db397bab",
   "metadata": {},
   "outputs": [
    {
     "name": "stdout",
     "output_type": "stream",
     "text": [
      "Epoch 1/10\n",
      "65/65 [==============================] - 422s 6s/step - loss: 0.2058\n",
      "Epoch 2/10\n",
      "65/65 [==============================] - 437s 7s/step - loss: 0.1747\n",
      "Epoch 3/10\n",
      "65/65 [==============================] - 448s 7s/step - loss: 0.1420\n",
      "Epoch 4/10\n",
      "65/65 [==============================] - 446s 7s/step - loss: 0.1091\n",
      "Epoch 5/10\n",
      "65/65 [==============================] - 439s 7s/step - loss: 0.0920\n",
      "Epoch 6/10\n",
      "65/65 [==============================] - 452s 7s/step - loss: 0.0828\n",
      "Epoch 7/10\n",
      "65/65 [==============================] - 451s 7s/step - loss: 0.0775\n",
      "Epoch 8/10\n",
      "65/65 [==============================] - 425s 7s/step - loss: 0.0716\n",
      "Epoch 9/10\n",
      "65/65 [==============================] - 427s 7s/step - loss: 0.0713\n",
      "Epoch 10/10\n",
      "65/65 [==============================] - 426s 7s/step - loss: 0.0615\n"
     ]
    }
   ],
   "source": [
    "model.fit(X_train, y_train,\n",
    "          epochs = 10);"
   ]
  },
  {
   "cell_type": "code",
   "execution_count": 35,
   "id": "95b43204",
   "metadata": {},
   "outputs": [],
   "source": [
    "predictions = model.predict(X_test);"
   ]
  },
  {
   "cell_type": "code",
   "execution_count": 73,
   "id": "09637fe6",
   "metadata": {},
   "outputs": [
    {
     "data": {
      "image/png": "[encoded data removed]",
      "text/plain": [
       "<Figure size 432x288 with 1 Axes>"
      ]
     },
     "metadata": {
      "needs_background": "light"
     },
     "output_type": "display_data"
    }
   ],
   "source": [
    "plt.imshow(y_test[115],   # WAS [80]\n",
    "           cmap = 'gray');"
   ]
  },
  {
   "cell_type": "code",
   "execution_count": null,
   "id": "f22939ac",
   "metadata": {},
   "outputs": [],
   "source": []
  },
  {
   "cell_type": "code",
   "execution_count": 74,
   "id": "2179dc85",
   "metadata": {},
   "outputs": [
    {
     "data": {
      "image/png": "[encoded data removed]",
      "text/plain": [
       "<Figure size 432x288 with 1 Axes>"
      ]
     },
     "metadata": {
      "needs_background": "light"
     },
     "output_type": "display_data"
    }
   ],
   "source": [
    "plt.imshow(predictions[115], # WAS [80] > 0.5,\n",
    "           cmap = 'gray');"
   ]
  },
  {
   "cell_type": "code",
   "execution_count": 36,
   "id": "7c7c1c99",
   "metadata": {},
   "outputs": [],
   "source": [
    "idx_var = 0"
   ]
  },
  {
   "cell_type": "code",
   "execution_count": 37,
   "id": "a1eb5b2c",
   "metadata": {},
   "outputs": [
    {
     "data": {
      "text/plain": [
       "array([[[0.9692962 ],\n",
       "        [0.9914522 ],\n",
       "        [0.99875236],\n",
       "        ...,\n",
       "        [0.9992566 ],\n",
       "        [0.997939  ],\n",
       "        [0.9912405 ]],\n",
       "\n",
       "       [[0.98984534],\n",
       "        [0.99929607],\n",
       "        [0.9999317 ],\n",
       "        ...,\n",
       "        [0.9994831 ],\n",
       "        [0.99878204],\n",
       "        [0.99401367]],\n",
       "\n",
       "       [[0.99405694],\n",
       "        [0.99913657],\n",
       "        [0.9998183 ],\n",
       "        ...,\n",
       "        [0.99541163],\n",
       "        [0.99211144],\n",
       "        [0.9842435 ]],\n",
       "\n",
       "       ...,\n",
       "\n",
       "       [[0.928275  ],\n",
       "        [0.96017295],\n",
       "        [0.98301816],\n",
       "        ...,\n",
       "        [0.99823445],\n",
       "        [0.99547756],\n",
       "        [0.97713006]],\n",
       "\n",
       "       [[0.9340801 ],\n",
       "        [0.9653839 ],\n",
       "        [0.9852494 ],\n",
       "        ...,\n",
       "        [0.9996531 ],\n",
       "        [0.99923825],\n",
       "        [0.99020314]],\n",
       "\n",
       "       [[0.9104648 ],\n",
       "        [0.94946146],\n",
       "        [0.97093487],\n",
       "        ...,\n",
       "        [0.9984735 ],\n",
       "        [0.9930345 ],\n",
       "        [0.9703239 ]]], dtype=float32)"
      ]
     },
     "execution_count": 37,
     "metadata": {},
     "output_type": "execute_result"
    }
   ],
   "source": [
    "predictions[idx_var]"
   ]
  },
  {
   "cell_type": "code",
   "execution_count": null,
   "id": "6f331b4d",
   "metadata": {},
   "outputs": [],
   "source": []
  },
  {
   "cell_type": "code",
   "execution_count": 38,
   "id": "aba118c4",
   "metadata": {
    "scrolled": true
   },
   "outputs": [
    {
     "data": {
      "text/plain": [
       "(128, 128)"
      ]
     },
     "execution_count": 38,
     "metadata": {},
     "output_type": "execute_result"
    }
   ],
   "source": [
    "y[idx_var].shape"
   ]
  },
  {
   "cell_type": "code",
   "execution_count": 39,
   "id": "ef898128",
   "metadata": {},
   "outputs": [
    {
     "data": {
      "text/plain": [
       "(128, 128, 1)"
      ]
     },
     "execution_count": 39,
     "metadata": {},
     "output_type": "execute_result"
    }
   ],
   "source": [
    "predictions[idx_var].shape"
   ]
  },
  {
   "cell_type": "code",
   "execution_count": 40,
   "id": "c0cfeb8a",
   "metadata": {},
   "outputs": [
    {
     "data": {
      "text/plain": [
       "False"
      ]
     },
     "execution_count": 40,
     "metadata": {},
     "output_type": "execute_result"
    }
   ],
   "source": [
    "(y[idx_var] == 0).any()"
   ]
  },
  {
   "cell_type": "code",
   "execution_count": 41,
   "id": "d3429280",
   "metadata": {},
   "outputs": [
    {
     "data": {
      "text/plain": [
       "True"
      ]
     },
     "execution_count": 41,
     "metadata": {},
     "output_type": "execute_result"
    }
   ],
   "source": [
    "(y[200] == 0).any()"
   ]
  },
  {
   "cell_type": "code",
   "execution_count": 42,
   "id": "7423aa82",
   "metadata": {},
   "outputs": [
    {
     "data": {
      "image/png": "[encoded data removed]",
      "text/plain": [
       "<Figure size 432x288 with 1 Axes>"
      ]
     },
     "metadata": {
      "needs_background": "light"
     },
     "output_type": "display_data"
    }
   ],
   "source": [
    "plt.imshow(predictions[148] > 0.5,  # ORIGINALLY 200\n",
    "           cmap = 'gray');"
   ]
  },
  {
   "cell_type": "code",
   "execution_count": null,
   "id": "91a1a6a9",
   "metadata": {},
   "outputs": [],
   "source": []
  },
  {
   "cell_type": "code",
   "execution_count": 116,
   "id": "917b099e",
   "metadata": {},
   "outputs": [
    {
     "data": {
      "text/plain": [
       "0.8826169272842016"
      ]
     },
     "execution_count": 116,
     "metadata": {},
     "output_type": "execute_result"
    }
   ],
   "source": [
    "idx_var = 148        # ORIGINALLY 200\n",
    "\n",
    "f1_score(y[idx_var].flatten(),\n",
    "         predictions[idx_var].flatten() > 0.5)"
   ]
  },
  {
   "cell_type": "code",
   "execution_count": 42,
   "id": "273ae271",
   "metadata": {},
   "outputs": [],
   "source": [
    "def f1(y, predictions):\n",
    "    \n",
    "    f1_cont = []\n",
    "\n",
    "    for ground_truth, prediction in zip(y, predictions):\n",
    "        \n",
    "        f1_cont.append(f1_score(ground_truth.flatten(),\n",
    "                                prediction.flatten() > 0.5))\n",
    "    \n",
    "    # AVERAGE f1 SCORES\n",
    "    return np.mean(f1_cont) "
   ]
  },
  {
   "cell_type": "code",
   "execution_count": 43,
   "id": "28d417bb",
   "metadata": {},
   "outputs": [
    {
     "data": {
      "text/plain": [
       "0.9860484760632282"
      ]
     },
     "execution_count": 43,
     "metadata": {},
     "output_type": "execute_result"
    }
   ],
   "source": [
    "f1(y_test, predictions)"
   ]
  },
  {
   "cell_type": "code",
   "execution_count": null,
   "id": "d6f5b6fc",
   "metadata": {},
   "outputs": [],
   "source": [
    "def f1_v2(y, predictions):\n",
    "    \n",
    "    # f1_cont = []\n",
    "\n",
    "    # for ground_truth, prediction in zip(y, predictions):\n",
    "        \n",
    "    return f1_score(y.flatten(),\n",
    "                    predictions.flatten() > 0.5)\n",
    "    "
   ]
  },
  {
   "cell_type": "code",
   "execution_count": null,
   "id": "b063dd81",
   "metadata": {},
   "outputs": [],
   "source": [
    "f1_v2(y_test, predictions)"
   ]
  },
  {
   "cell_type": "code",
   "execution_count": null,
   "id": "ba9501ab",
   "metadata": {},
   "outputs": [],
   "source": [
    "np.asarray(f1(y_test, predictions)).max()"
   ]
  },
  {
   "cell_type": "code",
   "execution_count": null,
   "id": "70da3634",
   "metadata": {},
   "outputs": [],
   "source": []
  },
  {
   "cell_type": "code",
   "execution_count": null,
   "id": "ad4b5c1b",
   "metadata": {},
   "outputs": [],
   "source": [
    "predictions.max()"
   ]
  },
  {
   "cell_type": "code",
   "execution_count": null,
   "id": "7992d0bb",
   "metadata": {},
   "outputs": [],
   "source": [
    "predictions.min()"
   ]
  },
  {
   "cell_type": "code",
   "execution_count": null,
   "id": "1f33915f",
   "metadata": {},
   "outputs": [],
   "source": [
    "len(y_test_D)"
   ]
  },
  {
   "cell_type": "code",
   "execution_count": null,
   "id": "00e3035a",
   "metadata": {},
   "outputs": [],
   "source": [
    "len(y)"
   ]
  },
  {
   "cell_type": "code",
   "execution_count": null,
   "id": "68e24959",
   "metadata": {},
   "outputs": [],
   "source": [
    "len(X_test_D)"
   ]
  },
  {
   "cell_type": "code",
   "execution_count": null,
   "id": "03cb5787",
   "metadata": {},
   "outputs": [],
   "source": [
    "len(X)"
   ]
  },
  {
   "cell_type": "code",
   "execution_count": null,
   "id": "c5990481",
   "metadata": {},
   "outputs": [],
   "source": [
    "len(predictions)"
   ]
  }
 ],
 "metadata": {
  "kernelspec": {
   "display_name": "Python 3 (ipykernel)",
   "language": "python",
   "name": "python3"
  },
  "language_info": {
   "codemirror_mode": {
    "name": "ipython",
    "version": 3
   },
   "file_extension": ".py",
   "mimetype": "text/x-python",
   "name": "python",
   "nbconvert_exporter": "python",
   "pygments_lexer": "ipython3",
   "version": "3.8.8"
  }
 },
 "nbformat": 4,
 "nbformat_minor": 5
}
